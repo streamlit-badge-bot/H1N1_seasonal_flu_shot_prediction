{
 "cells": [
  {
   "cell_type": "markdown",
   "metadata": {},
   "source": [
    "# Project 3 Modeling"
   ]
  },
  {
   "cell_type": "code",
   "execution_count": 2,
   "metadata": {},
   "outputs": [],
   "source": [
    "def warn(*args, **kwargs):\n",
    "    pass\n",
    "import warnings\n",
    "warnings.warn = warn"
   ]
  },
  {
   "cell_type": "code",
   "execution_count": 81,
   "metadata": {},
   "outputs": [],
   "source": [
    "import math\n",
    "import pickle\n",
    "import statistics\n",
    "import numpy as np\n",
    "import pandas as pd\n",
    "from collections import defaultdict\n",
    "\n",
    "import matplotlib.pyplot as plt\n",
    "from matplotlib.pyplot import figure\n",
    "import seaborn as sns\n",
    "import itertools\n",
    "from sklearn.decomposition import PCA\n",
    "from mlxtend.plotting import plot_decision_regions\n",
    "from mlxtend.classifier import StackingClassifier \n",
    "\n",
    "from sklearn.multiclass import OneVsRestClassifier\n",
    "from sklearn.preprocessing import StandardScaler, label_binarize, LabelEncoder, OneHotEncoder\n",
    "from sklearn.model_selection import train_test_split, KFold, cross_val_score, StratifiedKFold\n",
    "from sklearn.linear_model import LogisticRegression\n",
    "from sklearn.model_selection import GridSearchCV, RandomizedSearchCV\n",
    "from sklearn.neighbors import KNeighborsClassifier\n",
    "from sklearn.linear_model import LogisticRegression\n",
    "from sklearn.tree import DecisionTreeClassifier, ExtraTreeClassifier\n",
    "from sklearn.ensemble import RandomForestClassifier, GradientBoostingClassifier, VotingClassifier\n",
    "from sklearn.pipeline import Pipeline\n",
    "from sklearn.metrics import precision_score, recall_score, accuracy_score, f1_score, log_loss, make_scorer\n",
    "from sklearn.metrics import precision_recall_fscore_support as score\n",
    "from sklearn.metrics import roc_auc_score, roc_curve, classification_report, confusion_matrix, auc\n",
    "from sklearn.naive_bayes import GaussianNB, BernoulliNB, MultinomialNB\n",
    "from imblearn.over_sampling import SMOTE, ADASYN, RandomOverSampler\n",
    "from xgboost import XGBClassifier\n",
    "from catboost import CatBoostRegressor"
   ]
  },
  {
   "cell_type": "code",
   "execution_count": 4,
   "metadata": {},
   "outputs": [],
   "source": [
    "df=pd.read_pickle(\"Data/df.pkl\")\n",
    "df_drop=pd.read_pickle(\"Data/df_drop.pkl\")\n",
    "df_no_na=pd.read_pickle(\"Data/df_no_na.pkl\")"
   ]
  },
  {
   "cell_type": "code",
   "execution_count": 5,
   "metadata": {},
   "outputs": [],
   "source": [
    "df_drop = df_drop.reset_index(drop = True)\n",
    "df_no_na = df_no_na.reset_index(drop = True)"
   ]
  },
  {
   "cell_type": "code",
   "execution_count": 211,
   "metadata": {},
   "outputs": [],
   "source": [
    "df_save = df.iloc[:,1:] # Without the ID"
   ]
  },
  {
   "cell_type": "code",
   "execution_count": 216,
   "metadata": {},
   "outputs": [],
   "source": [
    "df_save.to_csv('df_save.csv') "
   ]
  },
  {
   "cell_type": "markdown",
   "metadata": {},
   "source": [
    "## Prepare Data"
   ]
  },
  {
   "cell_type": "code",
   "execution_count": 6,
   "metadata": {},
   "outputs": [],
   "source": [
    "df_train=df_drop.values\n",
    "\n",
    "X = df_train[:, 2:].astype(str)\n",
    "y = df_train[:, 1].astype(str)\n",
    "\n",
    "X_train, X_test, y_train, y_test = train_test_split(X, y, test_size=0.30, random_state=4444)\n"
   ]
  },
  {
   "cell_type": "code",
   "execution_count": 7,
   "metadata": {},
   "outputs": [],
   "source": [
    "# Setting up a columns name translator \n",
    "X_dummies = df_drop.iloc[:, 2:].astype(str)\n",
    "X_dummies = pd.get_dummies(X_dummies)"
   ]
  },
  {
   "cell_type": "code",
   "execution_count": 9,
   "metadata": {},
   "outputs": [
    {
     "data": {
      "text/plain": [
       "175"
      ]
     },
     "execution_count": 9,
     "metadata": {},
     "output_type": "execute_result"
    }
   ],
   "source": [
    "len(X_dummies.columns) # Verify the length from \"get_dummies\" is the same as \"one_hot_encode\""
   ]
  },
  {
   "cell_type": "code",
   "execution_count": 10,
   "metadata": {},
   "outputs": [
    {
     "data": {
      "text/plain": [
       "36"
      ]
     },
     "execution_count": 10,
     "metadata": {},
     "output_type": "execute_result"
    }
   ],
   "source": [
    "len(X_train[0]) "
   ]
  },
  {
   "cell_type": "code",
   "execution_count": 11,
   "metadata": {},
   "outputs": [],
   "source": [
    "names = list(X_dummies.columns) # Feature reference list for interpretation "
   ]
  },
  {
   "cell_type": "code",
   "execution_count": 12,
   "metadata": {},
   "outputs": [],
   "source": [
    "# one-hot encode input variables\n",
    "onehot_encoder = OneHotEncoder(sparse=False)\n",
    "onehot_encoder.fit(X_train)\n",
    "X_train = onehot_encoder.transform(X_train)\n",
    "X_test = onehot_encoder.transform(X_test)\n",
    "#ordinal encode target variable\n",
    "label_encoder = LabelEncoder()\n",
    "label_encoder.fit(y_train)\n",
    "y_train = label_encoder.transform(y_train)\n",
    "y_test = label_encoder.transform(y_test)"
   ]
  },
  {
   "cell_type": "code",
   "execution_count": 13,
   "metadata": {},
   "outputs": [
    {
     "data": {
      "text/plain": [
       "array([[0., 1., 0., ..., 0., 0., 0.],\n",
       "       [0., 1., 0., ..., 0., 0., 0.],\n",
       "       [1., 0., 0., ..., 0., 1., 0.],\n",
       "       ...,\n",
       "       [1., 0., 0., ..., 0., 0., 0.],\n",
       "       [0., 1., 0., ..., 0., 0., 0.],\n",
       "       [0., 1., 0., ..., 0., 0., 0.]])"
      ]
     },
     "execution_count": 13,
     "metadata": {},
     "output_type": "execute_result"
    }
   ],
   "source": [
    "X_train"
   ]
  },
  {
   "cell_type": "markdown",
   "metadata": {},
   "source": [
    "## RandomForest"
   ]
  },
  {
   "cell_type": "code",
   "execution_count": 51,
   "metadata": {},
   "outputs": [
    {
     "name": "stdout",
     "output_type": "stream",
     "text": [
      "Training: 100.00%\n",
      "Test set:  85.42%\n",
      "Accuracy_: 85.42\n",
      "roc_auc_score: 79.56\n",
      "              precision    recall  f1-score   support\n",
      "\n",
      "           0       0.87      0.94      0.90      1561\n",
      "           1       0.81      0.66      0.72       641\n",
      "\n",
      "    accuracy                           0.85      2202\n",
      "   macro avg       0.84      0.80      0.81      2202\n",
      "weighted avg       0.85      0.85      0.85      2202\n",
      "\n"
     ]
    }
   ],
   "source": [
    "model = RandomForestClassifier()\n",
    "# fit on the training set\n",
    "model.fit(X_train, y_train)\n",
    "# predict on test set\n",
    "yhat = model.predict(X_test)\n",
    "# evaluate predictions\n",
    "print(\"Training: {:6.2f}%\".format(100*model.score(X_train, y_train)))\n",
    "print(\"Test set: {:6.2f}%\".format(100*model.score(X_test, y_test)))\n",
    "accuracy = accuracy_score(y_test, yhat)\n",
    "roc_auc = roc_auc_score(y_test, yhat)\n",
    "print('Accuracy_: %.2f' % (accuracy*100))\n",
    "print('roc_auc_score: %.2f' % (roc_auc*100))\n",
    "print(classification_report(y_test, yhat))"
   ]
  },
  {
   "cell_type": "code",
   "execution_count": 52,
   "metadata": {},
   "outputs": [
    {
     "data": {
      "image/png": "[encoded data removed]",
      "text/plain": [
       "<Figure size 432x288 with 1 Axes>"
      ]
     },
     "metadata": {
      "needs_background": "light"
     },
     "output_type": "display_data"
    }
   ],
   "source": [
    "# get importance\n",
    "importance = model.feature_importances_\n",
    "# summarize feature importance\n",
    "# for i,v in enumerate(importance):\n",
    "#     print('Feature: %0d, Score: %.5f' % (i,v))\n",
    "# plot feature importance\n",
    "plt.bar([x for x in range(len(importance))], importance);\n"
   ]
  },
  {
   "cell_type": "code",
   "execution_count": 68,
   "metadata": {},
   "outputs": [
    {
     "data": {
      "text/plain": [
       "array([ 85,  99,   4,  42,  67, 134,  89,  77,   8,  76,  74,  59,  41,\n",
       "        49,  71,  73,  34,  35,   9,  70,  53,  56,  68,  52,  50,  33,\n",
       "        55,  32,   0,   1])"
      ]
     },
     "execution_count": 68,
     "metadata": {},
     "output_type": "execute_result"
    }
   ],
   "source": [
    "indices = np.argsort(importance)[-30:]\n",
    "indices"
   ]
  },
  {
   "cell_type": "code",
   "execution_count": 115,
   "metadata": {},
   "outputs": [],
   "source": [
    "feature_raw=[]\n",
    "for i in indices:\n",
    "    feature_raw.append(names[i])"
   ]
  },
  {
   "cell_type": "code",
   "execution_count": 116,
   "metadata": {},
   "outputs": [
    {
     "data": {
      "text/plain": [
       "['age_group_55 - 64 Years',\n",
       " 'income_poverty_> $75,000',\n",
       " 'h1n1_concern_2.0',\n",
       " 'health_worker_1.0',\n",
       " 'opinion_seas_vacc_effective_4.0',\n",
       " 'employment_industry_fcxhlnwr',\n",
       " 'education_College Graduate',\n",
       " 'opinion_seas_sick_from_vacc_2.0',\n",
       " 'h1n1_knowledge_1.0',\n",
       " 'opinion_seas_sick_from_vacc_1.0',\n",
       " 'opinion_seas_risk_5.0',\n",
       " 'opinion_h1n1_sick_from_vacc_2.0',\n",
       " 'health_worker_0.0',\n",
       " 'opinion_h1n1_vacc_effective_4.0',\n",
       " 'opinion_seas_risk_2.0',\n",
       " 'opinion_seas_risk_4.0',\n",
       " 'doctor_recc_seasonal_0.0',\n",
       " 'doctor_recc_seasonal_1.0',\n",
       " 'h1n1_knowledge_2.0',\n",
       " 'opinion_seas_risk_1.0',\n",
       " 'opinion_h1n1_risk_2.0',\n",
       " 'opinion_h1n1_risk_5.0',\n",
       " 'opinion_seas_vacc_effective_5.0',\n",
       " 'opinion_h1n1_risk_1.0',\n",
       " 'opinion_h1n1_vacc_effective_5.0',\n",
       " 'doctor_recc_h1n1_1.0',\n",
       " 'opinion_h1n1_risk_4.0',\n",
       " 'doctor_recc_h1n1_0.0',\n",
       " 'seasonal_vaccine_0',\n",
       " 'seasonal_vaccine_1']"
      ]
     },
     "execution_count": 116,
     "metadata": {},
     "output_type": "execute_result"
    }
   ],
   "source": [
    "feature_raw"
   ]
  },
  {
   "cell_type": "code",
   "execution_count": 131,
   "metadata": {},
   "outputs": [],
   "source": [
    "feature_clean=[]\n",
    "for i in feature_raw:\n",
    "    if \".\" in (i.split(\"_\")[-1]):\n",
    "        feature_clean.append(\"_\".join(i.split(\"_\")[:-1]))\n",
    "    else:\n",
    "        feature_clean.append(i)"
   ]
  },
  {
   "cell_type": "code",
   "execution_count": 132,
   "metadata": {},
   "outputs": [],
   "source": [
    "feature_keep = set(feature_clean)"
   ]
  },
  {
   "cell_type": "code",
   "execution_count": 139,
   "metadata": {},
   "outputs": [
    {
     "data": {
      "text/plain": [
       "17"
      ]
     },
     "execution_count": 139,
     "metadata": {},
     "output_type": "execute_result"
    }
   ],
   "source": [
    "len(feature_keep)"
   ]
  },
  {
   "cell_type": "code",
   "execution_count": 140,
   "metadata": {},
   "outputs": [],
   "source": [
    "zip_list=list(zip(feature_clean, importance[-30:]))"
   ]
  },
  {
   "cell_type": "code",
   "execution_count": 169,
   "metadata": {},
   "outputs": [
    {
     "data": {
      "text/plain": [
       "[('age_group_55 - 64 Years', 0.0018459710968270911),\n",
       " ('income_poverty_> $75,000', 0.0020599087288576535),\n",
       " ('h1n1_concern', 0.0017853189541767842),\n",
       " ('health_worker', 0.005403747053501599),\n",
       " ('opinion_seas_vacc_effective', 0.0030382179894259797),\n",
       " ('employment_industry_fcxhlnwr', 0.0018126966996551356),\n",
       " ('education_College Graduate', 0.0015145449309786779),\n",
       " ('opinion_seas_sick_from_vacc', 0.0015201488871464974),\n",
       " ('h1n1_knowledge', 0.0072727450524772246),\n",
       " ('opinion_seas_sick_from_vacc', 0.005096474122892275),\n",
       " ('opinion_seas_risk', 0.002261676249823239),\n",
       " ('opinion_h1n1_sick_from_vacc', 0.004790131111084453),\n",
       " ('health_worker', 0.001615459755866395),\n",
       " ('opinion_h1n1_vacc_effective', 0.002508738110761985),\n",
       " ('opinion_seas_risk', 0.0013480392000766598),\n",
       " ('opinion_seas_risk', 0.002533108920855741),\n",
       " ('doctor_recc_seasonal', 0.004382791078920471),\n",
       " ('doctor_recc_seasonal', 0.001585181270511172),\n",
       " ('h1n1_knowledge', 0.0017842324807938192),\n",
       " ('opinion_seas_risk', 0.00035811754769925604),\n",
       " ('opinion_h1n1_risk', 0.0017685203450124659),\n",
       " ('opinion_h1n1_risk', 0.0006441837636814123),\n",
       " ('opinion_seas_vacc_effective', 0.0018830785900443142),\n",
       " ('opinion_h1n1_risk', 0.0021150139811904538),\n",
       " ('opinion_h1n1_vacc_effective', 0.0015392781092618119),\n",
       " ('doctor_recc_h1n1', 0.0013854223939411608),\n",
       " ('opinion_h1n1_risk', 0.004107831501166931),\n",
       " ('doctor_recc_h1n1', 0.0027106803624739823),\n",
       " ('seasonal_vaccine_0', 0.00544740826312538),\n",
       " ('seasonal_vaccine_1', 0.0016819483209400627)]"
      ]
     },
     "execution_count": 169,
     "metadata": {},
     "output_type": "execute_result"
    }
   ],
   "source": [
    "zip_list"
   ]
  },
  {
   "cell_type": "code",
   "execution_count": 280,
   "metadata": {},
   "outputs": [],
   "source": [
    "imp_dict = {('age_group_55 - 64 Years', 0.0018459710968270911),\n",
    " ('income_poverty_> $75,000', 0.0020599087288576535),\n",
    " ('h1n1_concern', 0.0017853189541767842),\n",
    " ('health_worker', 0.005403747053501599),\n",
    " ('opinion_seas_vacc_effective', 0.0030382179894259797),\n",
    " ('employment_industry_fcxhlnwr', 0.0018126966996551356),\n",
    " ('education_College Graduate', 0.0015145449309786779),\n",
    " ('opinion_seas_sick_from_vacc', 0.0015201488871464974),\n",
    " ('h1n1_knowledge', 0.0072727450524772246),\n",
    " ('opinion_seas_sick_from_vacc', 0.005096474122892275),\n",
    " ('opinion_seas_risk', 0.002261676249823239),\n",
    " ('opinion_h1n1_sick_from_vacc', 0.004790131111084453),\n",
    " ('health_worker', 0.001615459755866395),\n",
    " ('opinion_h1n1_vacc_effective', 0.002508738110761985),\n",
    " ('opinion_seas_risk', 0.0013480392000766598),\n",
    " ('opinion_seas_risk', 0.002533108920855741),\n",
    " ('doctor_recc_seasonal', 0.004382791078920471),\n",
    " ('doctor_recc_seasonal', 0.001585181270511172),\n",
    " ('h1n1_knowledge', 0.0017842324807938192),\n",
    " ('opinion_seas_risk', 0.00035811754769925604),\n",
    " ('opinion_h1n1_risk', 0.0017685203450124659),\n",
    " ('opinion_h1n1_risk', 0.0006441837636814123),\n",
    " ('opinion_seas_vacc_effective', 0.0018830785900443142),\n",
    " ('opinion_h1n1_risk', 0.0021150139811904538),\n",
    " ('opinion_h1n1_vacc_effective', 0.0015392781092618119),\n",
    " ('doctor_recc_h1n1', 0.0013854223939411608),\n",
    " ('opinion_h1n1_risk', 0.004107831501166931),\n",
    " ('doctor_recc_h1n1', 0.0027106803624739823),\n",
    " ('seasonal_vaccine_0', 0.00544740826312538),\n",
    " ('seasonal_vaccine_1', 0.0016819483209400627)}"
   ]
  },
  {
   "cell_type": "code",
   "execution_count": 293,
   "metadata": {},
   "outputs": [],
   "source": [
    "imp_dict_df = pd.DataFrame(imp_dict)"
   ]
  },
  {
   "cell_type": "code",
   "execution_count": 295,
   "metadata": {},
   "outputs": [],
   "source": [
    "imp_dict_df.columns = [\"Features\", \"Importance\"]"
   ]
  },
  {
   "cell_type": "code",
   "execution_count": 298,
   "metadata": {},
   "outputs": [],
   "source": [
    "imp_dict_df.to_csv(\"Data/imp_features.csv\", index = False)"
   ]
  },
  {
   "cell_type": "code",
   "execution_count": 150,
   "metadata": {},
   "outputs": [
    {
     "data": {
      "text/plain": [
       "30"
      ]
     },
     "execution_count": 150,
     "metadata": {},
     "output_type": "execute_result"
    }
   ],
   "source": [
    "len(zip_list)"
   ]
  },
  {
   "cell_type": "code",
   "execution_count": 200,
   "metadata": {},
   "outputs": [],
   "source": [
    "from collections import Counter, defaultdict\n",
    "\n",
    "imp=defaultdict(float)\n",
    "for i in zip_list:\n",
    "    imp[i[0]]+=i[1]\n"
   ]
  },
  {
   "cell_type": "code",
   "execution_count": 201,
   "metadata": {},
   "outputs": [],
   "source": [
    "imp_df=pd.Series(imp).sort_values(ascending = False)"
   ]
  },
  {
   "cell_type": "code",
   "execution_count": 202,
   "metadata": {},
   "outputs": [],
   "source": [
    "imp_df = pd.DataFrame(imp_df)"
   ]
  },
  {
   "cell_type": "code",
   "execution_count": 205,
   "metadata": {},
   "outputs": [],
   "source": [
    "imp_df.reset_index(inplace=True)"
   ]
  },
  {
   "cell_type": "code",
   "execution_count": 212,
   "metadata": {},
   "outputs": [],
   "source": [
    "imp_df.rename(columns = {'index':'features', 0:'importance'}, inplace = True)"
   ]
  },
  {
   "cell_type": "code",
   "execution_count": 213,
   "metadata": {},
   "outputs": [
    {
     "data": {
      "text/html": [
       "<div>\n",
       "<style scoped>\n",
       "    .dataframe tbody tr th:only-of-type {\n",
       "        vertical-align: middle;\n",
       "    }\n",
       "\n",
       "    .dataframe tbody tr th {\n",
       "        vertical-align: top;\n",
       "    }\n",
       "\n",
       "    .dataframe thead th {\n",
       "        text-align: right;\n",
       "    }\n",
       "</style>\n",
       "<table border=\"1\" class=\"dataframe\">\n",
       "  <thead>\n",
       "    <tr style=\"text-align: right;\">\n",
       "      <th></th>\n",
       "      <th>features</th>\n",
       "      <th>importance</th>\n",
       "    </tr>\n",
       "  </thead>\n",
       "  <tbody>\n",
       "    <tr>\n",
       "      <th>0</th>\n",
       "      <td>h1n1_knowledge</td>\n",
       "      <td>0.009057</td>\n",
       "    </tr>\n",
       "    <tr>\n",
       "      <th>1</th>\n",
       "      <td>opinion_h1n1_risk</td>\n",
       "      <td>0.008636</td>\n",
       "    </tr>\n",
       "    <tr>\n",
       "      <th>2</th>\n",
       "      <td>health_worker</td>\n",
       "      <td>0.007019</td>\n",
       "    </tr>\n",
       "    <tr>\n",
       "      <th>3</th>\n",
       "      <td>opinion_seas_sick_from_vacc</td>\n",
       "      <td>0.006617</td>\n",
       "    </tr>\n",
       "    <tr>\n",
       "      <th>4</th>\n",
       "      <td>opinion_seas_risk</td>\n",
       "      <td>0.006501</td>\n",
       "    </tr>\n",
       "    <tr>\n",
       "      <th>5</th>\n",
       "      <td>doctor_recc_seasonal</td>\n",
       "      <td>0.005968</td>\n",
       "    </tr>\n",
       "    <tr>\n",
       "      <th>6</th>\n",
       "      <td>seasonal_vaccine_0</td>\n",
       "      <td>0.005447</td>\n",
       "    </tr>\n",
       "    <tr>\n",
       "      <th>7</th>\n",
       "      <td>opinion_seas_vacc_effective</td>\n",
       "      <td>0.004921</td>\n",
       "    </tr>\n",
       "    <tr>\n",
       "      <th>8</th>\n",
       "      <td>opinion_h1n1_sick_from_vacc</td>\n",
       "      <td>0.004790</td>\n",
       "    </tr>\n",
       "    <tr>\n",
       "      <th>9</th>\n",
       "      <td>doctor_recc_h1n1</td>\n",
       "      <td>0.004096</td>\n",
       "    </tr>\n",
       "    <tr>\n",
       "      <th>10</th>\n",
       "      <td>opinion_h1n1_vacc_effective</td>\n",
       "      <td>0.004048</td>\n",
       "    </tr>\n",
       "    <tr>\n",
       "      <th>11</th>\n",
       "      <td>income_poverty_&gt; $75,000</td>\n",
       "      <td>0.002060</td>\n",
       "    </tr>\n",
       "    <tr>\n",
       "      <th>12</th>\n",
       "      <td>age_group_55 - 64 Years</td>\n",
       "      <td>0.001846</td>\n",
       "    </tr>\n",
       "    <tr>\n",
       "      <th>13</th>\n",
       "      <td>employment_industry_fcxhlnwr</td>\n",
       "      <td>0.001813</td>\n",
       "    </tr>\n",
       "    <tr>\n",
       "      <th>14</th>\n",
       "      <td>h1n1_concern</td>\n",
       "      <td>0.001785</td>\n",
       "    </tr>\n",
       "    <tr>\n",
       "      <th>15</th>\n",
       "      <td>seasonal_vaccine_1</td>\n",
       "      <td>0.001682</td>\n",
       "    </tr>\n",
       "    <tr>\n",
       "      <th>16</th>\n",
       "      <td>education_College Graduate</td>\n",
       "      <td>0.001515</td>\n",
       "    </tr>\n",
       "  </tbody>\n",
       "</table>\n",
       "</div>"
      ],
      "text/plain": [
       "                        features  importance\n",
       "0                 h1n1_knowledge    0.009057\n",
       "1              opinion_h1n1_risk    0.008636\n",
       "2                  health_worker    0.007019\n",
       "3    opinion_seas_sick_from_vacc    0.006617\n",
       "4              opinion_seas_risk    0.006501\n",
       "5           doctor_recc_seasonal    0.005968\n",
       "6             seasonal_vaccine_0    0.005447\n",
       "7    opinion_seas_vacc_effective    0.004921\n",
       "8    opinion_h1n1_sick_from_vacc    0.004790\n",
       "9               doctor_recc_h1n1    0.004096\n",
       "10   opinion_h1n1_vacc_effective    0.004048\n",
       "11      income_poverty_> $75,000    0.002060\n",
       "12       age_group_55 - 64 Years    0.001846\n",
       "13  employment_industry_fcxhlnwr    0.001813\n",
       "14                  h1n1_concern    0.001785\n",
       "15            seasonal_vaccine_1    0.001682\n",
       "16    education_College Graduate    0.001515"
      ]
     },
     "execution_count": 213,
     "metadata": {},
     "output_type": "execute_result"
    }
   ],
   "source": [
    "imp_df"
   ]
  },
  {
   "cell_type": "code",
   "execution_count": 219,
   "metadata": {},
   "outputs": [
    {
     "data": {
      "image/png": "[encoded data removed]",
      "text/plain": [
       "<Figure size 864x576 with 1 Axes>"
      ]
     },
     "metadata": {
      "needs_background": "light"
     },
     "output_type": "display_data"
    }
   ],
   "source": [
    "plt.figure(figsize=(12,8))\n",
    "ax = sns.barplot(x='importance', y='features', data=imp_df, palette=sns.color_palette(\"GnBu\", 10))\n",
    "# plt.xticks(rotation='vertical')\n",
    "ax.grid(b=True, which='major', color='#d3d3d3', linewidth=1.0)\n",
    "ax.grid(b=True, which='minor', color='#d3d3d3', linewidth=0.5)\n",
    "plt.show()"
   ]
  },
  {
   "cell_type": "markdown",
   "metadata": {},
   "source": [
    "## CatBoost"
   ]
  },
  {
   "cell_type": "code",
   "execution_count": 217,
   "metadata": {
    "scrolled": true
   },
   "outputs": [
    {
     "name": "stdout",
     "output_type": "stream",
     "text": [
      "Learning rate set to 0.064751\n",
      "0:\tlearn: 0.4080180\ttotal: 104ms\tremaining: 1m 44s\n",
      "1:\tlearn: 0.3998695\ttotal: 112ms\tremaining: 55.9s\n",
      "2:\tlearn: 0.3924745\ttotal: 120ms\tremaining: 39.8s\n",
      "3:\tlearn: 0.3858070\ttotal: 127ms\tremaining: 31.6s\n",
      "4:\tlearn: 0.3799702\ttotal: 135ms\tremaining: 26.8s\n",
      "5:\tlearn: 0.3748260\ttotal: 143ms\tremaining: 23.6s\n",
      "6:\tlearn: 0.3705012\ttotal: 150ms\tremaining: 21.3s\n",
      "7:\tlearn: 0.3662194\ttotal: 158ms\tremaining: 19.6s\n",
      "8:\tlearn: 0.3624458\ttotal: 167ms\tremaining: 18.4s\n",
      "9:\tlearn: 0.3592650\ttotal: 174ms\tremaining: 17.2s\n",
      "10:\tlearn: 0.3562589\ttotal: 181ms\tremaining: 16.3s\n",
      "11:\tlearn: 0.3536671\ttotal: 189ms\tremaining: 15.6s\n",
      "12:\tlearn: 0.3514061\ttotal: 197ms\tremaining: 14.9s\n",
      "13:\tlearn: 0.3494695\ttotal: 205ms\tremaining: 14.4s\n",
      "14:\tlearn: 0.3476687\ttotal: 212ms\tremaining: 14s\n",
      "15:\tlearn: 0.3458318\ttotal: 220ms\tremaining: 13.5s\n",
      "16:\tlearn: 0.3442407\ttotal: 228ms\tremaining: 13.2s\n",
      "17:\tlearn: 0.3428013\ttotal: 237ms\tremaining: 12.9s\n",
      "18:\tlearn: 0.3416165\ttotal: 252ms\tremaining: 13s\n",
      "19:\tlearn: 0.3405303\ttotal: 260ms\tremaining: 12.7s\n",
      "20:\tlearn: 0.3395350\ttotal: 266ms\tremaining: 12.4s\n",
      "21:\tlearn: 0.3386485\ttotal: 273ms\tremaining: 12.1s\n",
      "22:\tlearn: 0.3378009\ttotal: 277ms\tremaining: 11.8s\n",
      "23:\tlearn: 0.3370339\ttotal: 281ms\tremaining: 11.4s\n",
      "24:\tlearn: 0.3364830\ttotal: 285ms\tremaining: 11.1s\n",
      "25:\tlearn: 0.3358187\ttotal: 289ms\tremaining: 10.8s\n",
      "26:\tlearn: 0.3353028\ttotal: 293ms\tremaining: 10.6s\n",
      "27:\tlearn: 0.3348185\ttotal: 301ms\tremaining: 10.4s\n",
      "28:\tlearn: 0.3345108\ttotal: 307ms\tremaining: 10.3s\n",
      "29:\tlearn: 0.3341159\ttotal: 371ms\tremaining: 12s\n",
      "30:\tlearn: 0.3337276\ttotal: 380ms\tremaining: 11.9s\n",
      "31:\tlearn: 0.3333117\ttotal: 390ms\tremaining: 11.8s\n",
      "32:\tlearn: 0.3329602\ttotal: 399ms\tremaining: 11.7s\n",
      "33:\tlearn: 0.3326538\ttotal: 421ms\tremaining: 12s\n",
      "34:\tlearn: 0.3323453\ttotal: 450ms\tremaining: 12.4s\n",
      "35:\tlearn: 0.3320646\ttotal: 470ms\tremaining: 12.6s\n",
      "36:\tlearn: 0.3317324\ttotal: 477ms\tremaining: 12.4s\n",
      "37:\tlearn: 0.3314640\ttotal: 488ms\tremaining: 12.3s\n",
      "38:\tlearn: 0.3311711\ttotal: 503ms\tremaining: 12.4s\n",
      "39:\tlearn: 0.3309580\ttotal: 527ms\tremaining: 12.6s\n",
      "40:\tlearn: 0.3306913\ttotal: 576ms\tremaining: 13.5s\n",
      "41:\tlearn: 0.3304202\ttotal: 586ms\tremaining: 13.4s\n",
      "42:\tlearn: 0.3302091\ttotal: 599ms\tremaining: 13.3s\n",
      "43:\tlearn: 0.3300473\ttotal: 607ms\tremaining: 13.2s\n",
      "44:\tlearn: 0.3298902\ttotal: 617ms\tremaining: 13.1s\n",
      "45:\tlearn: 0.3297433\ttotal: 625ms\tremaining: 13s\n",
      "46:\tlearn: 0.3296323\ttotal: 631ms\tremaining: 12.8s\n",
      "47:\tlearn: 0.3294373\ttotal: 640ms\tremaining: 12.7s\n",
      "48:\tlearn: 0.3292954\ttotal: 647ms\tremaining: 12.6s\n",
      "49:\tlearn: 0.3292131\ttotal: 656ms\tremaining: 12.5s\n",
      "50:\tlearn: 0.3290331\ttotal: 663ms\tremaining: 12.3s\n",
      "51:\tlearn: 0.3289712\ttotal: 670ms\tremaining: 12.2s\n",
      "52:\tlearn: 0.3288015\ttotal: 676ms\tremaining: 12.1s\n",
      "53:\tlearn: 0.3286659\ttotal: 682ms\tremaining: 11.9s\n",
      "54:\tlearn: 0.3285384\ttotal: 689ms\tremaining: 11.8s\n",
      "55:\tlearn: 0.3284085\ttotal: 696ms\tremaining: 11.7s\n",
      "56:\tlearn: 0.3282327\ttotal: 721ms\tremaining: 11.9s\n",
      "57:\tlearn: 0.3280769\ttotal: 745ms\tremaining: 12.1s\n",
      "58:\tlearn: 0.3278781\ttotal: 768ms\tremaining: 12.3s\n",
      "59:\tlearn: 0.3277234\ttotal: 775ms\tremaining: 12.1s\n",
      "60:\tlearn: 0.3276438\ttotal: 783ms\tremaining: 12.1s\n",
      "61:\tlearn: 0.3275337\ttotal: 789ms\tremaining: 11.9s\n",
      "62:\tlearn: 0.3273765\ttotal: 795ms\tremaining: 11.8s\n",
      "63:\tlearn: 0.3272776\ttotal: 812ms\tremaining: 11.9s\n",
      "64:\tlearn: 0.3271579\ttotal: 817ms\tremaining: 11.8s\n",
      "65:\tlearn: 0.3270382\ttotal: 823ms\tremaining: 11.7s\n",
      "66:\tlearn: 0.3268689\ttotal: 829ms\tremaining: 11.5s\n",
      "67:\tlearn: 0.3267778\ttotal: 833ms\tremaining: 11.4s\n",
      "68:\tlearn: 0.3266642\ttotal: 839ms\tremaining: 11.3s\n",
      "69:\tlearn: 0.3265489\ttotal: 844ms\tremaining: 11.2s\n",
      "70:\tlearn: 0.3264135\ttotal: 851ms\tremaining: 11.1s\n",
      "71:\tlearn: 0.3263206\ttotal: 855ms\tremaining: 11s\n",
      "72:\tlearn: 0.3261937\ttotal: 860ms\tremaining: 10.9s\n",
      "73:\tlearn: 0.3260877\ttotal: 864ms\tremaining: 10.8s\n",
      "74:\tlearn: 0.3260167\ttotal: 869ms\tremaining: 10.7s\n",
      "75:\tlearn: 0.3259106\ttotal: 875ms\tremaining: 10.6s\n",
      "76:\tlearn: 0.3258131\ttotal: 880ms\tremaining: 10.5s\n",
      "77:\tlearn: 0.3257371\ttotal: 890ms\tremaining: 10.5s\n",
      "78:\tlearn: 0.3256333\ttotal: 895ms\tremaining: 10.4s\n",
      "79:\tlearn: 0.3254966\ttotal: 901ms\tremaining: 10.4s\n",
      "80:\tlearn: 0.3254417\ttotal: 905ms\tremaining: 10.3s\n",
      "81:\tlearn: 0.3253697\ttotal: 909ms\tremaining: 10.2s\n",
      "82:\tlearn: 0.3253438\ttotal: 923ms\tremaining: 10.2s\n",
      "83:\tlearn: 0.3252532\ttotal: 937ms\tremaining: 10.2s\n",
      "84:\tlearn: 0.3251622\ttotal: 946ms\tremaining: 10.2s\n",
      "85:\tlearn: 0.3250820\ttotal: 956ms\tremaining: 10.2s\n",
      "86:\tlearn: 0.3250215\ttotal: 962ms\tremaining: 10.1s\n",
      "87:\tlearn: 0.3249210\ttotal: 966ms\tremaining: 10s\n",
      "88:\tlearn: 0.3248490\ttotal: 971ms\tremaining: 9.94s\n",
      "89:\tlearn: 0.3247786\ttotal: 976ms\tremaining: 9.87s\n",
      "90:\tlearn: 0.3246907\ttotal: 980ms\tremaining: 9.79s\n",
      "91:\tlearn: 0.3246213\ttotal: 985ms\tremaining: 9.72s\n",
      "92:\tlearn: 0.3245387\ttotal: 992ms\tremaining: 9.67s\n",
      "93:\tlearn: 0.3244498\ttotal: 996ms\tremaining: 9.6s\n",
      "94:\tlearn: 0.3244054\ttotal: 1000ms\tremaining: 9.52s\n",
      "95:\tlearn: 0.3243267\ttotal: 1.01s\tremaining: 9.48s\n",
      "96:\tlearn: 0.3242557\ttotal: 1.01s\tremaining: 9.44s\n",
      "97:\tlearn: 0.3241476\ttotal: 1.02s\tremaining: 9.37s\n",
      "98:\tlearn: 0.3240801\ttotal: 1.02s\tremaining: 9.31s\n",
      "99:\tlearn: 0.3239911\ttotal: 1.03s\tremaining: 9.24s\n",
      "100:\tlearn: 0.3239373\ttotal: 1.04s\tremaining: 9.25s\n",
      "101:\tlearn: 0.3238636\ttotal: 1.04s\tremaining: 9.19s\n",
      "102:\tlearn: 0.3237321\ttotal: 1.05s\tremaining: 9.12s\n",
      "103:\tlearn: 0.3236732\ttotal: 1.05s\tremaining: 9.06s\n",
      "104:\tlearn: 0.3236437\ttotal: 1.06s\tremaining: 9s\n",
      "105:\tlearn: 0.3235715\ttotal: 1.06s\tremaining: 8.94s\n",
      "106:\tlearn: 0.3235227\ttotal: 1.06s\tremaining: 8.88s\n",
      "107:\tlearn: 0.3234776\ttotal: 1.07s\tremaining: 8.82s\n",
      "108:\tlearn: 0.3234392\ttotal: 1.07s\tremaining: 8.77s\n",
      "109:\tlearn: 0.3233907\ttotal: 1.08s\tremaining: 8.71s\n",
      "110:\tlearn: 0.3232994\ttotal: 1.08s\tremaining: 8.65s\n",
      "111:\tlearn: 0.3232165\ttotal: 1.08s\tremaining: 8.6s\n",
      "112:\tlearn: 0.3231244\ttotal: 1.09s\tremaining: 8.54s\n",
      "113:\tlearn: 0.3230481\ttotal: 1.09s\tremaining: 8.49s\n",
      "114:\tlearn: 0.3229685\ttotal: 1.1s\tremaining: 8.44s\n",
      "115:\tlearn: 0.3228846\ttotal: 1.1s\tremaining: 8.39s\n",
      "116:\tlearn: 0.3227829\ttotal: 1.1s\tremaining: 8.34s\n",
      "117:\tlearn: 0.3227055\ttotal: 1.11s\tremaining: 8.29s\n",
      "118:\tlearn: 0.3226154\ttotal: 1.12s\tremaining: 8.29s\n",
      "119:\tlearn: 0.3225809\ttotal: 1.14s\tremaining: 8.33s\n",
      "120:\tlearn: 0.3225087\ttotal: 1.14s\tremaining: 8.31s\n",
      "121:\tlearn: 0.3224332\ttotal: 1.15s\tremaining: 8.29s\n",
      "122:\tlearn: 0.3224123\ttotal: 1.16s\tremaining: 8.26s\n",
      "123:\tlearn: 0.3223887\ttotal: 1.16s\tremaining: 8.21s\n",
      "124:\tlearn: 0.3223630\ttotal: 1.17s\tremaining: 8.18s\n",
      "125:\tlearn: 0.3223043\ttotal: 1.17s\tremaining: 8.14s\n",
      "126:\tlearn: 0.3222440\ttotal: 1.18s\tremaining: 8.1s\n",
      "127:\tlearn: 0.3221823\ttotal: 1.18s\tremaining: 8.05s\n",
      "128:\tlearn: 0.3221418\ttotal: 1.19s\tremaining: 8.01s\n",
      "129:\tlearn: 0.3220604\ttotal: 1.19s\tremaining: 7.98s\n",
      "130:\tlearn: 0.3220249\ttotal: 1.2s\tremaining: 7.95s\n",
      "131:\tlearn: 0.3219925\ttotal: 1.2s\tremaining: 7.92s\n",
      "132:\tlearn: 0.3218933\ttotal: 1.21s\tremaining: 7.89s\n",
      "133:\tlearn: 0.3218287\ttotal: 1.22s\tremaining: 7.9s\n",
      "134:\tlearn: 0.3217308\ttotal: 1.24s\tremaining: 7.92s\n",
      "135:\tlearn: 0.3216520\ttotal: 1.25s\tremaining: 7.94s\n",
      "136:\tlearn: 0.3216237\ttotal: 1.26s\tremaining: 7.94s\n",
      "137:\tlearn: 0.3215626\ttotal: 1.28s\tremaining: 8.01s\n",
      "138:\tlearn: 0.3214797\ttotal: 1.29s\tremaining: 8.01s\n",
      "139:\tlearn: 0.3214616\ttotal: 1.32s\tremaining: 8.12s\n",
      "140:\tlearn: 0.3214021\ttotal: 1.33s\tremaining: 8.12s\n",
      "141:\tlearn: 0.3213586\ttotal: 1.35s\tremaining: 8.15s\n",
      "142:\tlearn: 0.3212842\ttotal: 1.37s\tremaining: 8.22s\n",
      "143:\tlearn: 0.3212160\ttotal: 1.38s\tremaining: 8.22s\n",
      "144:\tlearn: 0.3211477\ttotal: 1.39s\tremaining: 8.19s\n",
      "145:\tlearn: 0.3211121\ttotal: 1.4s\tremaining: 8.18s\n",
      "146:\tlearn: 0.3210058\ttotal: 1.4s\tremaining: 8.15s\n",
      "147:\tlearn: 0.3209328\ttotal: 1.41s\tremaining: 8.14s\n",
      "148:\tlearn: 0.3208493\ttotal: 1.43s\tremaining: 8.15s\n",
      "149:\tlearn: 0.3207955\ttotal: 1.43s\tremaining: 8.11s\n",
      "150:\tlearn: 0.3206945\ttotal: 1.44s\tremaining: 8.11s\n",
      "151:\tlearn: 0.3206310\ttotal: 1.45s\tremaining: 8.09s\n",
      "152:\tlearn: 0.3205483\ttotal: 1.46s\tremaining: 8.08s\n",
      "153:\tlearn: 0.3204822\ttotal: 1.47s\tremaining: 8.05s\n",
      "154:\tlearn: 0.3204151\ttotal: 1.47s\tremaining: 8.04s\n",
      "155:\tlearn: 0.3203324\ttotal: 1.48s\tremaining: 8.01s\n",
      "156:\tlearn: 0.3202795\ttotal: 1.49s\tremaining: 8.01s\n",
      "157:\tlearn: 0.3202273\ttotal: 1.51s\tremaining: 8.03s\n",
      "158:\tlearn: 0.3201620\ttotal: 1.52s\tremaining: 8.07s\n",
      "159:\tlearn: 0.3201140\ttotal: 1.53s\tremaining: 8.06s\n",
      "160:\tlearn: 0.3200604\ttotal: 1.55s\tremaining: 8.1s\n",
      "161:\tlearn: 0.3200255\ttotal: 1.57s\tremaining: 8.14s\n",
      "162:\tlearn: 0.3199728\ttotal: 1.59s\tremaining: 8.18s\n",
      "163:\tlearn: 0.3199459\ttotal: 1.6s\tremaining: 8.17s\n",
      "164:\tlearn: 0.3198820\ttotal: 1.61s\tremaining: 8.14s\n",
      "165:\tlearn: 0.3198135\ttotal: 1.61s\tremaining: 8.12s\n",
      "166:\tlearn: 0.3197203\ttotal: 1.62s\tremaining: 8.1s\n",
      "167:\tlearn: 0.3196937\ttotal: 1.63s\tremaining: 8.09s\n",
      "168:\tlearn: 0.3196541\ttotal: 1.64s\tremaining: 8.09s\n",
      "169:\tlearn: 0.3195948\ttotal: 1.66s\tremaining: 8.1s\n",
      "170:\tlearn: 0.3195318\ttotal: 1.67s\tremaining: 8.07s\n",
      "171:\tlearn: 0.3194540\ttotal: 1.67s\tremaining: 8.05s\n",
      "172:\tlearn: 0.3193878\ttotal: 1.68s\tremaining: 8.01s\n",
      "173:\tlearn: 0.3193451\ttotal: 1.68s\tremaining: 7.98s\n",
      "174:\tlearn: 0.3192646\ttotal: 1.69s\tremaining: 7.96s\n",
      "175:\tlearn: 0.3191876\ttotal: 1.7s\tremaining: 7.95s\n",
      "176:\tlearn: 0.3191135\ttotal: 1.7s\tremaining: 7.92s\n",
      "177:\tlearn: 0.3190324\ttotal: 1.71s\tremaining: 7.89s\n",
      "178:\tlearn: 0.3189666\ttotal: 1.71s\tremaining: 7.85s\n",
      "179:\tlearn: 0.3189378\ttotal: 1.72s\tremaining: 7.84s\n",
      "180:\tlearn: 0.3189156\ttotal: 1.73s\tremaining: 7.82s\n",
      "181:\tlearn: 0.3188388\ttotal: 1.74s\tremaining: 7.8s\n",
      "182:\tlearn: 0.3187457\ttotal: 1.75s\tremaining: 7.79s\n",
      "183:\tlearn: 0.3186802\ttotal: 1.76s\tremaining: 7.8s\n",
      "184:\tlearn: 0.3186253\ttotal: 1.77s\tremaining: 7.8s\n",
      "185:\tlearn: 0.3186019\ttotal: 1.77s\tremaining: 7.77s\n",
      "186:\tlearn: 0.3185570\ttotal: 1.78s\tremaining: 7.75s\n",
      "187:\tlearn: 0.3185107\ttotal: 1.79s\tremaining: 7.74s\n",
      "188:\tlearn: 0.3184691\ttotal: 1.8s\tremaining: 7.72s\n",
      "189:\tlearn: 0.3184351\ttotal: 1.8s\tremaining: 7.7s\n",
      "190:\tlearn: 0.3184162\ttotal: 1.81s\tremaining: 7.67s\n",
      "191:\tlearn: 0.3183782\ttotal: 1.82s\tremaining: 7.65s\n",
      "192:\tlearn: 0.3183014\ttotal: 1.82s\tremaining: 7.62s\n",
      "193:\tlearn: 0.3182960\ttotal: 1.83s\tremaining: 7.61s\n",
      "194:\tlearn: 0.3182286\ttotal: 1.84s\tremaining: 7.59s\n",
      "195:\tlearn: 0.3181769\ttotal: 1.84s\tremaining: 7.56s\n",
      "196:\tlearn: 0.3181253\ttotal: 1.85s\tremaining: 7.53s\n",
      "197:\tlearn: 0.3181188\ttotal: 1.85s\tremaining: 7.51s\n",
      "198:\tlearn: 0.3181154\ttotal: 1.86s\tremaining: 7.48s\n",
      "199:\tlearn: 0.3181128\ttotal: 1.86s\tremaining: 7.44s\n",
      "200:\tlearn: 0.3180838\ttotal: 1.87s\tremaining: 7.42s\n",
      "201:\tlearn: 0.3180075\ttotal: 1.87s\tremaining: 7.39s\n",
      "202:\tlearn: 0.3179622\ttotal: 1.88s\tremaining: 7.37s\n",
      "203:\tlearn: 0.3179084\ttotal: 1.88s\tremaining: 7.35s\n",
      "204:\tlearn: 0.3178519\ttotal: 1.89s\tremaining: 7.32s\n",
      "205:\tlearn: 0.3178493\ttotal: 1.89s\tremaining: 7.29s\n",
      "206:\tlearn: 0.3178298\ttotal: 1.9s\tremaining: 7.27s\n",
      "207:\tlearn: 0.3178070\ttotal: 1.9s\tremaining: 7.24s\n",
      "208:\tlearn: 0.3177844\ttotal: 1.91s\tremaining: 7.23s\n",
      "209:\tlearn: 0.3177613\ttotal: 1.92s\tremaining: 7.23s\n",
      "210:\tlearn: 0.3176924\ttotal: 1.93s\tremaining: 7.23s\n",
      "211:\tlearn: 0.3176220\ttotal: 1.94s\tremaining: 7.22s\n",
      "212:\tlearn: 0.3176186\ttotal: 1.95s\tremaining: 7.2s\n",
      "213:\tlearn: 0.3175469\ttotal: 1.96s\tremaining: 7.19s\n",
      "214:\tlearn: 0.3174757\ttotal: 1.96s\tremaining: 7.17s\n",
      "215:\tlearn: 0.3174368\ttotal: 1.97s\tremaining: 7.15s\n",
      "216:\tlearn: 0.3174319\ttotal: 1.98s\tremaining: 7.13s\n",
      "217:\tlearn: 0.3173851\ttotal: 1.98s\tremaining: 7.1s\n",
      "218:\tlearn: 0.3173812\ttotal: 1.98s\tremaining: 7.08s\n",
      "219:\tlearn: 0.3173679\ttotal: 1.99s\tremaining: 7.05s\n",
      "220:\tlearn: 0.3173047\ttotal: 1.99s\tremaining: 7.02s\n",
      "221:\tlearn: 0.3172898\ttotal: 2s\tremaining: 7s\n",
      "222:\tlearn: 0.3172385\ttotal: 2s\tremaining: 6.97s\n",
      "223:\tlearn: 0.3172000\ttotal: 2s\tremaining: 6.95s\n",
      "224:\tlearn: 0.3171453\ttotal: 2.01s\tremaining: 6.92s\n",
      "225:\tlearn: 0.3171389\ttotal: 2.02s\tremaining: 6.9s\n",
      "226:\tlearn: 0.3171363\ttotal: 2.02s\tremaining: 6.88s\n",
      "227:\tlearn: 0.3171301\ttotal: 2.02s\tremaining: 6.85s\n",
      "228:\tlearn: 0.3170950\ttotal: 2.03s\tremaining: 6.82s\n",
      "229:\tlearn: 0.3170849\ttotal: 2.03s\tremaining: 6.8s\n",
      "230:\tlearn: 0.3170099\ttotal: 2.04s\tremaining: 6.78s\n",
      "231:\tlearn: 0.3169893\ttotal: 2.04s\tremaining: 6.75s\n",
      "232:\tlearn: 0.3169859\ttotal: 2.04s\tremaining: 6.72s\n",
      "233:\tlearn: 0.3169835\ttotal: 2.05s\tremaining: 6.7s\n",
      "234:\tlearn: 0.3169813\ttotal: 2.05s\tremaining: 6.68s\n",
      "235:\tlearn: 0.3169799\ttotal: 2.06s\tremaining: 6.65s\n",
      "236:\tlearn: 0.3169705\ttotal: 2.06s\tremaining: 6.63s\n",
      "237:\tlearn: 0.3169637\ttotal: 2.06s\tremaining: 6.6s\n",
      "238:\tlearn: 0.3169620\ttotal: 2.07s\tremaining: 6.58s\n",
      "239:\tlearn: 0.3169529\ttotal: 2.07s\tremaining: 6.55s\n",
      "240:\tlearn: 0.3169476\ttotal: 2.07s\tremaining: 6.53s\n",
      "241:\tlearn: 0.3169460\ttotal: 2.08s\tremaining: 6.51s\n",
      "242:\tlearn: 0.3168976\ttotal: 2.08s\tremaining: 6.49s\n",
      "243:\tlearn: 0.3168686\ttotal: 2.09s\tremaining: 6.46s\n",
      "244:\tlearn: 0.3168665\ttotal: 2.09s\tremaining: 6.44s\n",
      "245:\tlearn: 0.3168085\ttotal: 2.09s\tremaining: 6.42s\n",
      "246:\tlearn: 0.3167813\ttotal: 2.1s\tremaining: 6.41s\n",
      "247:\tlearn: 0.3167544\ttotal: 2.12s\tremaining: 6.43s\n",
      "248:\tlearn: 0.3167528\ttotal: 2.13s\tremaining: 6.42s\n",
      "249:\tlearn: 0.3167314\ttotal: 2.14s\tremaining: 6.42s\n",
      "250:\tlearn: 0.3166967\ttotal: 2.15s\tremaining: 6.41s\n",
      "251:\tlearn: 0.3166578\ttotal: 2.16s\tremaining: 6.41s\n",
      "252:\tlearn: 0.3166337\ttotal: 2.17s\tremaining: 6.41s\n",
      "253:\tlearn: 0.3166320\ttotal: 2.18s\tremaining: 6.4s\n",
      "254:\tlearn: 0.3166250\ttotal: 2.19s\tremaining: 6.39s\n",
      "255:\tlearn: 0.3165833\ttotal: 2.19s\tremaining: 6.38s\n",
      "256:\tlearn: 0.3165750\ttotal: 2.2s\tremaining: 6.37s\n",
      "257:\tlearn: 0.3165108\ttotal: 2.21s\tremaining: 6.37s\n",
      "258:\tlearn: 0.3165052\ttotal: 2.22s\tremaining: 6.36s\n",
      "259:\tlearn: 0.3165037\ttotal: 2.23s\tremaining: 6.35s\n",
      "260:\tlearn: 0.3164969\ttotal: 2.24s\tremaining: 6.35s\n",
      "261:\tlearn: 0.3164938\ttotal: 2.25s\tremaining: 6.34s\n",
      "262:\tlearn: 0.3164905\ttotal: 2.26s\tremaining: 6.33s\n",
      "263:\tlearn: 0.3164863\ttotal: 2.34s\tremaining: 6.54s\n",
      "264:\tlearn: 0.3164486\ttotal: 2.36s\tremaining: 6.54s\n",
      "265:\tlearn: 0.3164085\ttotal: 2.37s\tremaining: 6.53s\n",
      "266:\tlearn: 0.3164056\ttotal: 2.37s\tremaining: 6.51s\n",
      "267:\tlearn: 0.3163946\ttotal: 2.38s\tremaining: 6.49s\n",
      "268:\tlearn: 0.3163895\ttotal: 2.38s\tremaining: 6.47s\n",
      "269:\tlearn: 0.3163862\ttotal: 2.38s\tremaining: 6.45s\n",
      "270:\tlearn: 0.3163522\ttotal: 2.39s\tremaining: 6.42s\n",
      "271:\tlearn: 0.3163491\ttotal: 2.39s\tremaining: 6.41s\n",
      "272:\tlearn: 0.3163292\ttotal: 2.41s\tremaining: 6.41s\n",
      "273:\tlearn: 0.3163057\ttotal: 2.41s\tremaining: 6.39s\n",
      "274:\tlearn: 0.3163037\ttotal: 2.42s\tremaining: 6.38s\n",
      "275:\tlearn: 0.3162634\ttotal: 2.42s\tremaining: 6.36s\n",
      "276:\tlearn: 0.3161954\ttotal: 2.43s\tremaining: 6.34s\n",
      "277:\tlearn: 0.3161481\ttotal: 2.44s\tremaining: 6.32s\n",
      "278:\tlearn: 0.3161454\ttotal: 2.44s\tremaining: 6.31s\n",
      "279:\tlearn: 0.3160874\ttotal: 2.44s\tremaining: 6.29s\n",
      "280:\tlearn: 0.3160782\ttotal: 2.45s\tremaining: 6.26s\n",
      "281:\tlearn: 0.3160709\ttotal: 2.45s\tremaining: 6.25s\n",
      "282:\tlearn: 0.3160268\ttotal: 2.46s\tremaining: 6.23s\n",
      "283:\tlearn: 0.3160259\ttotal: 2.46s\tremaining: 6.21s\n",
      "284:\tlearn: 0.3160203\ttotal: 2.47s\tremaining: 6.19s\n",
      "285:\tlearn: 0.3160128\ttotal: 2.47s\tremaining: 6.17s\n",
      "286:\tlearn: 0.3160093\ttotal: 2.47s\tremaining: 6.15s\n",
      "287:\tlearn: 0.3159742\ttotal: 2.48s\tremaining: 6.13s\n",
      "288:\tlearn: 0.3159452\ttotal: 2.48s\tremaining: 6.11s\n",
      "289:\tlearn: 0.3159088\ttotal: 2.49s\tremaining: 6.09s\n",
      "290:\tlearn: 0.3159079\ttotal: 2.49s\tremaining: 6.07s\n",
      "291:\tlearn: 0.3159023\ttotal: 2.5s\tremaining: 6.05s\n",
      "292:\tlearn: 0.3158995\ttotal: 2.5s\tremaining: 6.04s\n",
      "293:\tlearn: 0.3158968\ttotal: 2.51s\tremaining: 6.03s\n",
      "294:\tlearn: 0.3158960\ttotal: 2.52s\tremaining: 6.01s\n",
      "295:\tlearn: 0.3158854\ttotal: 2.52s\tremaining: 5.99s\n",
      "296:\tlearn: 0.3158835\ttotal: 2.52s\tremaining: 5.97s\n",
      "297:\tlearn: 0.3158773\ttotal: 2.53s\tremaining: 5.97s\n",
      "298:\tlearn: 0.3158738\ttotal: 2.54s\tremaining: 5.97s\n",
      "299:\tlearn: 0.3158598\ttotal: 2.55s\tremaining: 5.95s\n",
      "300:\tlearn: 0.3158139\ttotal: 2.56s\tremaining: 5.93s\n",
      "301:\tlearn: 0.3158087\ttotal: 2.56s\tremaining: 5.92s\n",
      "302:\tlearn: 0.3158081\ttotal: 2.56s\tremaining: 5.9s\n",
      "303:\tlearn: 0.3157845\ttotal: 2.57s\tremaining: 5.88s\n",
      "304:\tlearn: 0.3157695\ttotal: 2.57s\tremaining: 5.86s\n",
      "305:\tlearn: 0.3157513\ttotal: 2.58s\tremaining: 5.85s\n",
      "306:\tlearn: 0.3157127\ttotal: 2.58s\tremaining: 5.83s\n",
      "307:\tlearn: 0.3156585\ttotal: 2.59s\tremaining: 5.82s\n",
      "308:\tlearn: 0.3156521\ttotal: 2.59s\tremaining: 5.8s\n",
      "309:\tlearn: 0.3156296\ttotal: 2.6s\tremaining: 5.79s\n",
      "310:\tlearn: 0.3156261\ttotal: 2.61s\tremaining: 5.77s\n",
      "311:\tlearn: 0.3156201\ttotal: 2.61s\tremaining: 5.76s\n",
      "312:\tlearn: 0.3156062\ttotal: 2.62s\tremaining: 5.75s\n",
      "313:\tlearn: 0.3156046\ttotal: 2.62s\tremaining: 5.73s\n",
      "314:\tlearn: 0.3155944\ttotal: 2.63s\tremaining: 5.72s\n",
      "315:\tlearn: 0.3155904\ttotal: 2.63s\tremaining: 5.7s\n",
      "316:\tlearn: 0.3155899\ttotal: 2.64s\tremaining: 5.69s\n",
      "317:\tlearn: 0.3155882\ttotal: 2.65s\tremaining: 5.68s\n",
      "318:\tlearn: 0.3155879\ttotal: 2.65s\tremaining: 5.66s\n",
      "319:\tlearn: 0.3155846\ttotal: 2.66s\tremaining: 5.65s\n",
      "320:\tlearn: 0.3155791\ttotal: 2.66s\tremaining: 5.63s\n",
      "321:\tlearn: 0.3155257\ttotal: 2.67s\tremaining: 5.62s\n",
      "322:\tlearn: 0.3155140\ttotal: 2.67s\tremaining: 5.61s\n",
      "323:\tlearn: 0.3155010\ttotal: 2.68s\tremaining: 5.6s\n",
      "324:\tlearn: 0.3154938\ttotal: 2.69s\tremaining: 5.58s\n",
      "325:\tlearn: 0.3154513\ttotal: 2.7s\tremaining: 5.58s\n",
      "326:\tlearn: 0.3154212\ttotal: 2.71s\tremaining: 5.57s\n",
      "327:\tlearn: 0.3153979\ttotal: 2.71s\tremaining: 5.56s\n",
      "328:\tlearn: 0.3153747\ttotal: 2.72s\tremaining: 5.55s\n",
      "329:\tlearn: 0.3153540\ttotal: 2.73s\tremaining: 5.55s\n",
      "330:\tlearn: 0.3152906\ttotal: 2.74s\tremaining: 5.54s\n",
      "331:\tlearn: 0.3152861\ttotal: 2.75s\tremaining: 5.53s\n",
      "332:\tlearn: 0.3152819\ttotal: 2.75s\tremaining: 5.52s\n",
      "333:\tlearn: 0.3152813\ttotal: 2.76s\tremaining: 5.51s\n",
      "334:\tlearn: 0.3152463\ttotal: 2.78s\tremaining: 5.51s\n",
      "335:\tlearn: 0.3152376\ttotal: 2.79s\tremaining: 5.51s\n",
      "336:\tlearn: 0.3152190\ttotal: 2.79s\tremaining: 5.5s\n",
      "337:\tlearn: 0.3152185\ttotal: 2.8s\tremaining: 5.49s\n",
      "338:\tlearn: 0.3152180\ttotal: 2.81s\tremaining: 5.48s\n",
      "339:\tlearn: 0.3151623\ttotal: 2.81s\tremaining: 5.46s\n",
      "340:\tlearn: 0.3151621\ttotal: 2.82s\tremaining: 5.45s\n",
      "341:\tlearn: 0.3151461\ttotal: 2.83s\tremaining: 5.45s\n",
      "342:\tlearn: 0.3151443\ttotal: 2.84s\tremaining: 5.44s\n",
      "343:\tlearn: 0.3151348\ttotal: 2.85s\tremaining: 5.43s\n",
      "344:\tlearn: 0.3151247\ttotal: 2.85s\tremaining: 5.41s\n",
      "345:\tlearn: 0.3151229\ttotal: 2.86s\tremaining: 5.4s\n",
      "346:\tlearn: 0.3151207\ttotal: 2.86s\tremaining: 5.39s\n",
      "347:\tlearn: 0.3151082\ttotal: 2.87s\tremaining: 5.37s\n",
      "348:\tlearn: 0.3151077\ttotal: 2.87s\tremaining: 5.36s\n",
      "349:\tlearn: 0.3151073\ttotal: 2.88s\tremaining: 5.35s\n",
      "350:\tlearn: 0.3151025\ttotal: 2.89s\tremaining: 5.34s\n",
      "351:\tlearn: 0.3150994\ttotal: 2.9s\tremaining: 5.33s\n",
      "352:\tlearn: 0.3150588\ttotal: 2.9s\tremaining: 5.32s\n",
      "353:\tlearn: 0.3150563\ttotal: 2.91s\tremaining: 5.31s\n",
      "354:\tlearn: 0.3150488\ttotal: 2.92s\tremaining: 5.3s\n",
      "355:\tlearn: 0.3150373\ttotal: 2.92s\tremaining: 5.29s\n",
      "356:\tlearn: 0.3150311\ttotal: 2.93s\tremaining: 5.29s\n",
      "357:\tlearn: 0.3149894\ttotal: 2.94s\tremaining: 5.27s\n",
      "358:\tlearn: 0.3149872\ttotal: 2.94s\tremaining: 5.26s\n",
      "359:\tlearn: 0.3149491\ttotal: 2.95s\tremaining: 5.25s\n",
      "360:\tlearn: 0.3149453\ttotal: 2.96s\tremaining: 5.23s\n",
      "361:\tlearn: 0.3149439\ttotal: 2.96s\tremaining: 5.22s\n",
      "362:\tlearn: 0.3149426\ttotal: 2.97s\tremaining: 5.21s\n",
      "363:\tlearn: 0.3149390\ttotal: 2.97s\tremaining: 5.19s\n",
      "364:\tlearn: 0.3148864\ttotal: 2.98s\tremaining: 5.18s\n",
      "365:\tlearn: 0.3148576\ttotal: 2.98s\tremaining: 5.17s\n",
      "366:\tlearn: 0.3148453\ttotal: 2.99s\tremaining: 5.16s\n",
      "367:\tlearn: 0.3148330\ttotal: 3s\tremaining: 5.15s\n",
      "368:\tlearn: 0.3148239\ttotal: 3s\tremaining: 5.13s\n",
      "369:\tlearn: 0.3148208\ttotal: 3.01s\tremaining: 5.12s\n",
      "370:\tlearn: 0.3148073\ttotal: 3.01s\tremaining: 5.11s\n",
      "371:\tlearn: 0.3148047\ttotal: 3.02s\tremaining: 5.1s\n",
      "372:\tlearn: 0.3147723\ttotal: 3.03s\tremaining: 5.09s\n",
      "373:\tlearn: 0.3147643\ttotal: 3.03s\tremaining: 5.07s\n",
      "374:\tlearn: 0.3147627\ttotal: 3.04s\tremaining: 5.06s\n",
      "375:\tlearn: 0.3147611\ttotal: 3.04s\tremaining: 5.05s\n",
      "376:\tlearn: 0.3147552\ttotal: 3.05s\tremaining: 5.04s\n",
      "377:\tlearn: 0.3147373\ttotal: 3.05s\tremaining: 5.03s\n",
      "378:\tlearn: 0.3147369\ttotal: 3.06s\tremaining: 5.01s\n",
      "379:\tlearn: 0.3147033\ttotal: 3.07s\tremaining: 5s\n",
      "380:\tlearn: 0.3146551\ttotal: 3.07s\tremaining: 4.99s\n",
      "381:\tlearn: 0.3146548\ttotal: 3.08s\tremaining: 4.97s\n",
      "382:\tlearn: 0.3146362\ttotal: 3.08s\tremaining: 4.96s\n",
      "383:\tlearn: 0.3145838\ttotal: 3.09s\tremaining: 4.96s\n",
      "384:\tlearn: 0.3145461\ttotal: 3.09s\tremaining: 4.94s\n",
      "385:\tlearn: 0.3145460\ttotal: 3.1s\tremaining: 4.93s\n",
      "386:\tlearn: 0.3145434\ttotal: 3.11s\tremaining: 4.92s\n",
      "387:\tlearn: 0.3145366\ttotal: 3.11s\tremaining: 4.91s\n",
      "388:\tlearn: 0.3145345\ttotal: 3.12s\tremaining: 4.9s\n",
      "389:\tlearn: 0.3145000\ttotal: 3.13s\tremaining: 4.89s\n",
      "390:\tlearn: 0.3144929\ttotal: 3.13s\tremaining: 4.88s\n",
      "391:\tlearn: 0.3144904\ttotal: 3.14s\tremaining: 4.87s\n",
      "392:\tlearn: 0.3144878\ttotal: 3.14s\tremaining: 4.86s\n",
      "393:\tlearn: 0.3144800\ttotal: 3.15s\tremaining: 4.85s\n",
      "394:\tlearn: 0.3144744\ttotal: 3.16s\tremaining: 4.84s\n",
      "395:\tlearn: 0.3144340\ttotal: 3.16s\tremaining: 4.82s\n",
      "396:\tlearn: 0.3144303\ttotal: 3.17s\tremaining: 4.81s\n",
      "397:\tlearn: 0.3144239\ttotal: 3.17s\tremaining: 4.8s\n",
      "398:\tlearn: 0.3144191\ttotal: 3.18s\tremaining: 4.79s\n",
      "399:\tlearn: 0.3144189\ttotal: 3.19s\tremaining: 4.78s\n",
      "400:\tlearn: 0.3144027\ttotal: 3.19s\tremaining: 4.77s\n",
      "401:\tlearn: 0.3143084\ttotal: 3.22s\tremaining: 4.78s\n",
      "402:\tlearn: 0.3143009\ttotal: 3.24s\tremaining: 4.79s\n",
      "403:\tlearn: 0.3142541\ttotal: 3.24s\tremaining: 4.78s\n",
      "404:\tlearn: 0.3142476\ttotal: 3.25s\tremaining: 4.77s\n",
      "405:\tlearn: 0.3142292\ttotal: 3.25s\tremaining: 4.75s\n",
      "406:\tlearn: 0.3142228\ttotal: 3.25s\tremaining: 4.74s\n",
      "407:\tlearn: 0.3142152\ttotal: 3.26s\tremaining: 4.73s\n",
      "408:\tlearn: 0.3142109\ttotal: 3.26s\tremaining: 4.72s\n",
      "409:\tlearn: 0.3142106\ttotal: 3.27s\tremaining: 4.7s\n",
      "410:\tlearn: 0.3142045\ttotal: 3.27s\tremaining: 4.69s\n",
      "411:\tlearn: 0.3141405\ttotal: 3.28s\tremaining: 4.68s\n",
      "412:\tlearn: 0.3140771\ttotal: 3.29s\tremaining: 4.67s\n",
      "413:\tlearn: 0.3140768\ttotal: 3.29s\tremaining: 4.66s\n",
      "414:\tlearn: 0.3140482\ttotal: 3.29s\tremaining: 4.64s\n",
      "415:\tlearn: 0.3140430\ttotal: 3.3s\tremaining: 4.63s\n",
      "416:\tlearn: 0.3140408\ttotal: 3.3s\tremaining: 4.62s\n",
      "417:\tlearn: 0.3140393\ttotal: 3.31s\tremaining: 4.61s\n",
      "418:\tlearn: 0.3140325\ttotal: 3.32s\tremaining: 4.6s\n",
      "419:\tlearn: 0.3140252\ttotal: 3.33s\tremaining: 4.6s\n",
      "420:\tlearn: 0.3140221\ttotal: 3.34s\tremaining: 4.59s\n",
      "421:\tlearn: 0.3140114\ttotal: 3.34s\tremaining: 4.58s\n",
      "422:\tlearn: 0.3139955\ttotal: 3.35s\tremaining: 4.57s\n",
      "423:\tlearn: 0.3139917\ttotal: 3.36s\tremaining: 4.57s\n",
      "424:\tlearn: 0.3139904\ttotal: 3.37s\tremaining: 4.56s\n",
      "425:\tlearn: 0.3139877\ttotal: 3.38s\tremaining: 4.56s\n",
      "426:\tlearn: 0.3139752\ttotal: 3.39s\tremaining: 4.55s\n",
      "427:\tlearn: 0.3139514\ttotal: 3.4s\tremaining: 4.54s\n",
      "428:\tlearn: 0.3139494\ttotal: 3.41s\tremaining: 4.54s\n",
      "429:\tlearn: 0.3139146\ttotal: 3.41s\tremaining: 4.53s\n",
      "430:\tlearn: 0.3138857\ttotal: 3.42s\tremaining: 4.51s\n",
      "431:\tlearn: 0.3138676\ttotal: 3.42s\tremaining: 4.5s\n",
      "432:\tlearn: 0.3138440\ttotal: 3.43s\tremaining: 4.49s\n",
      "433:\tlearn: 0.3138404\ttotal: 3.43s\tremaining: 4.47s\n",
      "434:\tlearn: 0.3137984\ttotal: 3.43s\tremaining: 4.46s\n",
      "435:\tlearn: 0.3137831\ttotal: 3.44s\tremaining: 4.45s\n",
      "436:\tlearn: 0.3137455\ttotal: 3.44s\tremaining: 4.44s\n",
      "437:\tlearn: 0.3137454\ttotal: 3.45s\tremaining: 4.42s\n",
      "438:\tlearn: 0.3137454\ttotal: 3.45s\tremaining: 4.41s\n",
      "439:\tlearn: 0.3137453\ttotal: 3.46s\tremaining: 4.4s\n",
      "440:\tlearn: 0.3137428\ttotal: 3.46s\tremaining: 4.39s\n",
      "441:\tlearn: 0.3137427\ttotal: 3.47s\tremaining: 4.38s\n",
      "442:\tlearn: 0.3137070\ttotal: 3.47s\tremaining: 4.37s\n",
      "443:\tlearn: 0.3137069\ttotal: 3.48s\tremaining: 4.36s\n",
      "444:\tlearn: 0.3137018\ttotal: 3.48s\tremaining: 4.34s\n",
      "445:\tlearn: 0.3136349\ttotal: 3.49s\tremaining: 4.34s\n",
      "446:\tlearn: 0.3135941\ttotal: 3.5s\tremaining: 4.33s\n",
      "447:\tlearn: 0.3135451\ttotal: 3.5s\tremaining: 4.32s\n",
      "448:\tlearn: 0.3135170\ttotal: 3.51s\tremaining: 4.31s\n",
      "449:\tlearn: 0.3134877\ttotal: 3.52s\tremaining: 4.3s\n",
      "450:\tlearn: 0.3134875\ttotal: 3.52s\tremaining: 4.29s\n",
      "451:\tlearn: 0.3134822\ttotal: 3.53s\tremaining: 4.28s\n",
      "452:\tlearn: 0.3134803\ttotal: 3.53s\tremaining: 4.27s\n",
      "453:\tlearn: 0.3134794\ttotal: 3.54s\tremaining: 4.26s\n",
      "454:\tlearn: 0.3134385\ttotal: 3.54s\tremaining: 4.25s\n",
      "455:\tlearn: 0.3134383\ttotal: 3.55s\tremaining: 4.23s\n",
      "456:\tlearn: 0.3134354\ttotal: 3.55s\tremaining: 4.22s\n",
      "457:\tlearn: 0.3134346\ttotal: 3.56s\tremaining: 4.21s\n",
      "458:\tlearn: 0.3134332\ttotal: 3.57s\tremaining: 4.2s\n",
      "459:\tlearn: 0.3133991\ttotal: 3.57s\tremaining: 4.19s\n",
      "460:\tlearn: 0.3133717\ttotal: 3.58s\tremaining: 4.19s\n",
      "461:\tlearn: 0.3133681\ttotal: 3.59s\tremaining: 4.18s\n",
      "462:\tlearn: 0.3133305\ttotal: 3.59s\tremaining: 4.17s\n",
      "463:\tlearn: 0.3133253\ttotal: 3.6s\tremaining: 4.16s\n",
      "464:\tlearn: 0.3133200\ttotal: 3.6s\tremaining: 4.14s\n",
      "465:\tlearn: 0.3133163\ttotal: 3.61s\tremaining: 4.14s\n",
      "466:\tlearn: 0.3132570\ttotal: 3.61s\tremaining: 4.13s\n",
      "467:\tlearn: 0.3132530\ttotal: 3.62s\tremaining: 4.12s\n",
      "468:\tlearn: 0.3132490\ttotal: 3.63s\tremaining: 4.1s\n",
      "469:\tlearn: 0.3132222\ttotal: 3.63s\tremaining: 4.1s\n",
      "470:\tlearn: 0.3132208\ttotal: 3.64s\tremaining: 4.08s\n",
      "471:\tlearn: 0.3131645\ttotal: 3.64s\tremaining: 4.08s\n",
      "472:\tlearn: 0.3131440\ttotal: 3.65s\tremaining: 4.07s\n",
      "473:\tlearn: 0.3130946\ttotal: 3.65s\tremaining: 4.05s\n",
      "474:\tlearn: 0.3130945\ttotal: 3.66s\tremaining: 4.04s\n",
      "475:\tlearn: 0.3130943\ttotal: 3.67s\tremaining: 4.04s\n",
      "476:\tlearn: 0.3130885\ttotal: 3.67s\tremaining: 4.03s\n",
      "477:\tlearn: 0.3130885\ttotal: 3.68s\tremaining: 4.02s\n",
      "478:\tlearn: 0.3130884\ttotal: 3.68s\tremaining: 4s\n",
      "479:\tlearn: 0.3130873\ttotal: 3.69s\tremaining: 4s\n",
      "480:\tlearn: 0.3130840\ttotal: 3.7s\tremaining: 3.99s\n",
      "481:\tlearn: 0.3130643\ttotal: 3.7s\tremaining: 3.98s\n",
      "482:\tlearn: 0.3130620\ttotal: 3.71s\tremaining: 3.97s\n",
      "483:\tlearn: 0.3130312\ttotal: 3.72s\tremaining: 3.96s\n",
      "484:\tlearn: 0.3129715\ttotal: 3.72s\tremaining: 3.95s\n",
      "485:\tlearn: 0.3129714\ttotal: 3.73s\tremaining: 3.94s\n",
      "486:\tlearn: 0.3129443\ttotal: 3.73s\tremaining: 3.93s\n",
      "487:\tlearn: 0.3128831\ttotal: 3.74s\tremaining: 3.92s\n",
      "488:\tlearn: 0.3128808\ttotal: 3.74s\tremaining: 3.91s\n",
      "489:\tlearn: 0.3128570\ttotal: 3.75s\tremaining: 3.9s\n",
      "490:\tlearn: 0.3128357\ttotal: 3.76s\tremaining: 3.89s\n",
      "491:\tlearn: 0.3127958\ttotal: 3.76s\tremaining: 3.88s\n",
      "492:\tlearn: 0.3127951\ttotal: 3.77s\tremaining: 3.87s\n",
      "493:\tlearn: 0.3127777\ttotal: 3.77s\tremaining: 3.87s\n",
      "494:\tlearn: 0.3127316\ttotal: 3.78s\tremaining: 3.85s\n",
      "495:\tlearn: 0.3127028\ttotal: 3.79s\tremaining: 3.85s\n",
      "496:\tlearn: 0.3126584\ttotal: 3.79s\tremaining: 3.84s\n",
      "497:\tlearn: 0.3126526\ttotal: 3.8s\tremaining: 3.83s\n",
      "498:\tlearn: 0.3126229\ttotal: 3.8s\tremaining: 3.82s\n",
      "499:\tlearn: 0.3125930\ttotal: 3.81s\tremaining: 3.81s\n",
      "500:\tlearn: 0.3125769\ttotal: 3.81s\tremaining: 3.8s\n",
      "501:\tlearn: 0.3125554\ttotal: 3.82s\tremaining: 3.79s\n",
      "502:\tlearn: 0.3125507\ttotal: 3.83s\tremaining: 3.78s\n",
      "503:\tlearn: 0.3125318\ttotal: 3.83s\tremaining: 3.77s\n",
      "504:\tlearn: 0.3125075\ttotal: 3.84s\tremaining: 3.76s\n",
      "505:\tlearn: 0.3124726\ttotal: 3.84s\tremaining: 3.75s\n",
      "506:\tlearn: 0.3124501\ttotal: 3.85s\tremaining: 3.74s\n",
      "507:\tlearn: 0.3123984\ttotal: 3.85s\tremaining: 3.73s\n",
      "508:\tlearn: 0.3123445\ttotal: 3.86s\tremaining: 3.72s\n",
      "509:\tlearn: 0.3123403\ttotal: 3.87s\tremaining: 3.71s\n",
      "510:\tlearn: 0.3122893\ttotal: 3.89s\tremaining: 3.72s\n",
      "511:\tlearn: 0.3122180\ttotal: 3.89s\tremaining: 3.71s\n",
      "512:\tlearn: 0.3122156\ttotal: 3.9s\tremaining: 3.7s\n",
      "513:\tlearn: 0.3122127\ttotal: 3.9s\tremaining: 3.69s\n",
      "514:\tlearn: 0.3122094\ttotal: 3.91s\tremaining: 3.68s\n",
      "515:\tlearn: 0.3121893\ttotal: 3.92s\tremaining: 3.67s\n",
      "516:\tlearn: 0.3121506\ttotal: 3.92s\tremaining: 3.67s\n",
      "517:\tlearn: 0.3121481\ttotal: 3.93s\tremaining: 3.66s\n",
      "518:\tlearn: 0.3121122\ttotal: 3.94s\tremaining: 3.65s\n",
      "519:\tlearn: 0.3120609\ttotal: 3.94s\tremaining: 3.64s\n",
      "520:\tlearn: 0.3120058\ttotal: 3.95s\tremaining: 3.63s\n",
      "521:\tlearn: 0.3119964\ttotal: 3.95s\tremaining: 3.62s\n",
      "522:\tlearn: 0.3119524\ttotal: 3.96s\tremaining: 3.61s\n",
      "523:\tlearn: 0.3119469\ttotal: 3.97s\tremaining: 3.6s\n",
      "524:\tlearn: 0.3119314\ttotal: 3.97s\tremaining: 3.6s\n",
      "525:\tlearn: 0.3119263\ttotal: 3.98s\tremaining: 3.58s\n",
      "526:\tlearn: 0.3119225\ttotal: 3.98s\tremaining: 3.58s\n",
      "527:\tlearn: 0.3119160\ttotal: 3.99s\tremaining: 3.57s\n",
      "528:\tlearn: 0.3119147\ttotal: 4s\tremaining: 3.56s\n",
      "529:\tlearn: 0.3119130\ttotal: 4s\tremaining: 3.55s\n",
      "530:\tlearn: 0.3118900\ttotal: 4.01s\tremaining: 3.54s\n",
      "531:\tlearn: 0.3118622\ttotal: 4.01s\tremaining: 3.53s\n",
      "532:\tlearn: 0.3118439\ttotal: 4.02s\tremaining: 3.52s\n",
      "533:\tlearn: 0.3118223\ttotal: 4.03s\tremaining: 3.52s\n",
      "534:\tlearn: 0.3118191\ttotal: 4.03s\tremaining: 3.51s\n",
      "535:\tlearn: 0.3118160\ttotal: 4.04s\tremaining: 3.5s\n",
      "536:\tlearn: 0.3118149\ttotal: 4.04s\tremaining: 3.49s\n",
      "537:\tlearn: 0.3117972\ttotal: 4.05s\tremaining: 3.48s\n",
      "538:\tlearn: 0.3117293\ttotal: 4.06s\tremaining: 3.47s\n",
      "539:\tlearn: 0.3117073\ttotal: 4.07s\tremaining: 3.46s\n",
      "540:\tlearn: 0.3116928\ttotal: 4.07s\tremaining: 3.45s\n",
      "541:\tlearn: 0.3116734\ttotal: 4.08s\tremaining: 3.44s\n",
      "542:\tlearn: 0.3116719\ttotal: 4.08s\tremaining: 3.44s\n",
      "543:\tlearn: 0.3116711\ttotal: 4.09s\tremaining: 3.43s\n",
      "544:\tlearn: 0.3116621\ttotal: 4.09s\tremaining: 3.42s\n",
      "545:\tlearn: 0.3116562\ttotal: 4.1s\tremaining: 3.41s\n",
      "546:\tlearn: 0.3116543\ttotal: 4.11s\tremaining: 3.4s\n",
      "547:\tlearn: 0.3116284\ttotal: 4.11s\tremaining: 3.39s\n",
      "548:\tlearn: 0.3115752\ttotal: 4.12s\tremaining: 3.38s\n",
      "549:\tlearn: 0.3115585\ttotal: 4.12s\tremaining: 3.37s\n",
      "550:\tlearn: 0.3115401\ttotal: 4.13s\tremaining: 3.36s\n",
      "551:\tlearn: 0.3115401\ttotal: 4.13s\tremaining: 3.35s\n",
      "552:\tlearn: 0.3115263\ttotal: 4.14s\tremaining: 3.35s\n",
      "553:\tlearn: 0.3115252\ttotal: 4.14s\tremaining: 3.34s\n",
      "554:\tlearn: 0.3115234\ttotal: 4.16s\tremaining: 3.33s\n",
      "555:\tlearn: 0.3115206\ttotal: 4.16s\tremaining: 3.32s\n",
      "556:\tlearn: 0.3114872\ttotal: 4.17s\tremaining: 3.32s\n",
      "557:\tlearn: 0.3114820\ttotal: 4.17s\tremaining: 3.31s\n",
      "558:\tlearn: 0.3114454\ttotal: 4.18s\tremaining: 3.3s\n",
      "559:\tlearn: 0.3114223\ttotal: 4.19s\tremaining: 3.29s\n",
      "560:\tlearn: 0.3114210\ttotal: 4.19s\tremaining: 3.28s\n",
      "561:\tlearn: 0.3113902\ttotal: 4.2s\tremaining: 3.27s\n",
      "562:\tlearn: 0.3113419\ttotal: 4.21s\tremaining: 3.26s\n",
      "563:\tlearn: 0.3113334\ttotal: 4.21s\tremaining: 3.25s\n",
      "564:\tlearn: 0.3113117\ttotal: 4.22s\tremaining: 3.25s\n",
      "565:\tlearn: 0.3112718\ttotal: 4.22s\tremaining: 3.24s\n",
      "566:\tlearn: 0.3112588\ttotal: 4.23s\tremaining: 3.23s\n",
      "567:\tlearn: 0.3112546\ttotal: 4.23s\tremaining: 3.22s\n",
      "568:\tlearn: 0.3112295\ttotal: 4.24s\tremaining: 3.21s\n",
      "569:\tlearn: 0.3112276\ttotal: 4.25s\tremaining: 3.2s\n",
      "570:\tlearn: 0.3111922\ttotal: 4.25s\tremaining: 3.19s\n",
      "571:\tlearn: 0.3111878\ttotal: 4.26s\tremaining: 3.19s\n",
      "572:\tlearn: 0.3111860\ttotal: 4.26s\tremaining: 3.18s\n",
      "573:\tlearn: 0.3111375\ttotal: 4.27s\tremaining: 3.17s\n",
      "574:\tlearn: 0.3111366\ttotal: 4.28s\tremaining: 3.16s\n",
      "575:\tlearn: 0.3111365\ttotal: 4.29s\tremaining: 3.15s\n",
      "576:\tlearn: 0.3111193\ttotal: 4.29s\tremaining: 3.15s\n",
      "577:\tlearn: 0.3111049\ttotal: 4.3s\tremaining: 3.14s\n",
      "578:\tlearn: 0.3110859\ttotal: 4.3s\tremaining: 3.13s\n",
      "579:\tlearn: 0.3110849\ttotal: 4.31s\tremaining: 3.12s\n",
      "580:\tlearn: 0.3110630\ttotal: 4.32s\tremaining: 3.11s\n",
      "581:\tlearn: 0.3110257\ttotal: 4.32s\tremaining: 3.1s\n",
      "582:\tlearn: 0.3109904\ttotal: 4.33s\tremaining: 3.09s\n",
      "583:\tlearn: 0.3109904\ttotal: 4.33s\tremaining: 3.08s\n",
      "584:\tlearn: 0.3109888\ttotal: 4.34s\tremaining: 3.08s\n",
      "585:\tlearn: 0.3109860\ttotal: 4.34s\tremaining: 3.07s\n",
      "586:\tlearn: 0.3109542\ttotal: 4.35s\tremaining: 3.06s\n",
      "587:\tlearn: 0.3109034\ttotal: 4.36s\tremaining: 3.05s\n",
      "588:\tlearn: 0.3108999\ttotal: 4.36s\tremaining: 3.04s\n",
      "589:\tlearn: 0.3108776\ttotal: 4.37s\tremaining: 3.04s\n",
      "590:\tlearn: 0.3108770\ttotal: 4.37s\tremaining: 3.03s\n",
      "591:\tlearn: 0.3108716\ttotal: 4.38s\tremaining: 3.02s\n",
      "592:\tlearn: 0.3108486\ttotal: 4.38s\tremaining: 3.01s\n",
      "593:\tlearn: 0.3108244\ttotal: 4.39s\tremaining: 3s\n",
      "594:\tlearn: 0.3107982\ttotal: 4.4s\tremaining: 2.99s\n",
      "595:\tlearn: 0.3107301\ttotal: 4.4s\tremaining: 2.98s\n",
      "596:\tlearn: 0.3107096\ttotal: 4.41s\tremaining: 2.98s\n",
      "597:\tlearn: 0.3107081\ttotal: 4.41s\tremaining: 2.97s\n",
      "598:\tlearn: 0.3107043\ttotal: 4.42s\tremaining: 2.96s\n",
      "599:\tlearn: 0.3106682\ttotal: 4.42s\tremaining: 2.95s\n",
      "600:\tlearn: 0.3106645\ttotal: 4.43s\tremaining: 2.94s\n",
      "601:\tlearn: 0.3106249\ttotal: 4.44s\tremaining: 2.94s\n",
      "602:\tlearn: 0.3105659\ttotal: 4.45s\tremaining: 2.93s\n",
      "603:\tlearn: 0.3105608\ttotal: 4.46s\tremaining: 2.92s\n",
      "604:\tlearn: 0.3105508\ttotal: 4.46s\tremaining: 2.91s\n",
      "605:\tlearn: 0.3105463\ttotal: 4.46s\tremaining: 2.9s\n",
      "606:\tlearn: 0.3105265\ttotal: 4.47s\tremaining: 2.9s\n",
      "607:\tlearn: 0.3104923\ttotal: 4.48s\tremaining: 2.89s\n",
      "608:\tlearn: 0.3104886\ttotal: 4.49s\tremaining: 2.88s\n",
      "609:\tlearn: 0.3104751\ttotal: 4.49s\tremaining: 2.87s\n",
      "610:\tlearn: 0.3104275\ttotal: 4.5s\tremaining: 2.86s\n",
      "611:\tlearn: 0.3104237\ttotal: 4.5s\tremaining: 2.85s\n",
      "612:\tlearn: 0.3104194\ttotal: 4.51s\tremaining: 2.85s\n",
      "613:\tlearn: 0.3103984\ttotal: 4.51s\tremaining: 2.84s\n",
      "614:\tlearn: 0.3103461\ttotal: 4.52s\tremaining: 2.83s\n",
      "615:\tlearn: 0.3103027\ttotal: 4.53s\tremaining: 2.82s\n",
      "616:\tlearn: 0.3102783\ttotal: 4.53s\tremaining: 2.81s\n",
      "617:\tlearn: 0.3102736\ttotal: 4.54s\tremaining: 2.81s\n",
      "618:\tlearn: 0.3102349\ttotal: 4.54s\tremaining: 2.8s\n",
      "619:\tlearn: 0.3102296\ttotal: 4.55s\tremaining: 2.79s\n",
      "620:\tlearn: 0.3102272\ttotal: 4.56s\tremaining: 2.78s\n",
      "621:\tlearn: 0.3101829\ttotal: 4.56s\tremaining: 2.77s\n",
      "622:\tlearn: 0.3101799\ttotal: 4.57s\tremaining: 2.76s\n",
      "623:\tlearn: 0.3101552\ttotal: 4.57s\tremaining: 2.76s\n",
      "624:\tlearn: 0.3101516\ttotal: 4.58s\tremaining: 2.75s\n",
      "625:\tlearn: 0.3101362\ttotal: 4.59s\tremaining: 2.74s\n",
      "626:\tlearn: 0.3101167\ttotal: 4.59s\tremaining: 2.73s\n",
      "627:\tlearn: 0.3101154\ttotal: 4.6s\tremaining: 2.72s\n",
      "628:\tlearn: 0.3101153\ttotal: 4.6s\tremaining: 2.71s\n",
      "629:\tlearn: 0.3101119\ttotal: 4.61s\tremaining: 2.71s\n",
      "630:\tlearn: 0.3101115\ttotal: 4.61s\tremaining: 2.7s\n",
      "631:\tlearn: 0.3101102\ttotal: 4.62s\tremaining: 2.69s\n",
      "632:\tlearn: 0.3101087\ttotal: 4.62s\tremaining: 2.68s\n",
      "633:\tlearn: 0.3100682\ttotal: 4.63s\tremaining: 2.67s\n",
      "634:\tlearn: 0.3100425\ttotal: 4.64s\tremaining: 2.67s\n",
      "635:\tlearn: 0.3100408\ttotal: 4.64s\tremaining: 2.66s\n",
      "636:\tlearn: 0.3100233\ttotal: 4.65s\tremaining: 2.65s\n",
      "637:\tlearn: 0.3099695\ttotal: 4.66s\tremaining: 2.64s\n",
      "638:\tlearn: 0.3099623\ttotal: 4.67s\tremaining: 2.64s\n",
      "639:\tlearn: 0.3099598\ttotal: 4.67s\tremaining: 2.63s\n",
      "640:\tlearn: 0.3099586\ttotal: 4.68s\tremaining: 2.62s\n",
      "641:\tlearn: 0.3099390\ttotal: 4.68s\tremaining: 2.61s\n",
      "642:\tlearn: 0.3098851\ttotal: 4.69s\tremaining: 2.6s\n",
      "643:\tlearn: 0.3098631\ttotal: 4.7s\tremaining: 2.6s\n",
      "644:\tlearn: 0.3098038\ttotal: 4.7s\tremaining: 2.59s\n",
      "645:\tlearn: 0.3097866\ttotal: 4.71s\tremaining: 2.58s\n",
      "646:\tlearn: 0.3097566\ttotal: 4.71s\tremaining: 2.57s\n",
      "647:\tlearn: 0.3097543\ttotal: 4.72s\tremaining: 2.56s\n",
      "648:\tlearn: 0.3097505\ttotal: 4.72s\tremaining: 2.56s\n",
      "649:\tlearn: 0.3097479\ttotal: 4.74s\tremaining: 2.55s\n",
      "650:\tlearn: 0.3097462\ttotal: 4.74s\tremaining: 2.54s\n",
      "651:\tlearn: 0.3097045\ttotal: 4.75s\tremaining: 2.54s\n",
      "652:\tlearn: 0.3097011\ttotal: 4.76s\tremaining: 2.53s\n",
      "653:\tlearn: 0.3096600\ttotal: 4.76s\tremaining: 2.52s\n",
      "654:\tlearn: 0.3096425\ttotal: 4.77s\tremaining: 2.51s\n",
      "655:\tlearn: 0.3095864\ttotal: 4.77s\tremaining: 2.5s\n",
      "656:\tlearn: 0.3095798\ttotal: 4.78s\tremaining: 2.5s\n",
      "657:\tlearn: 0.3095798\ttotal: 4.78s\tremaining: 2.48s\n",
      "658:\tlearn: 0.3095363\ttotal: 4.79s\tremaining: 2.48s\n",
      "659:\tlearn: 0.3095357\ttotal: 4.79s\tremaining: 2.47s\n",
      "660:\tlearn: 0.3095272\ttotal: 4.79s\tremaining: 2.46s\n",
      "661:\tlearn: 0.3094572\ttotal: 4.8s\tremaining: 2.45s\n",
      "662:\tlearn: 0.3094471\ttotal: 4.8s\tremaining: 2.44s\n",
      "663:\tlearn: 0.3094431\ttotal: 4.8s\tremaining: 2.43s\n",
      "664:\tlearn: 0.3094403\ttotal: 4.81s\tremaining: 2.42s\n",
      "665:\tlearn: 0.3094038\ttotal: 4.81s\tremaining: 2.41s\n",
      "666:\tlearn: 0.3093576\ttotal: 4.82s\tremaining: 2.4s\n",
      "667:\tlearn: 0.3093424\ttotal: 4.82s\tremaining: 2.4s\n",
      "668:\tlearn: 0.3093411\ttotal: 4.82s\tremaining: 2.39s\n",
      "669:\tlearn: 0.3093410\ttotal: 4.83s\tremaining: 2.38s\n",
      "670:\tlearn: 0.3093398\ttotal: 4.83s\tremaining: 2.37s\n",
      "671:\tlearn: 0.3093116\ttotal: 4.84s\tremaining: 2.36s\n",
      "672:\tlearn: 0.3093098\ttotal: 4.84s\tremaining: 2.35s\n",
      "673:\tlearn: 0.3092984\ttotal: 4.84s\tremaining: 2.34s\n",
      "674:\tlearn: 0.3092638\ttotal: 4.85s\tremaining: 2.33s\n",
      "675:\tlearn: 0.3092553\ttotal: 4.86s\tremaining: 2.33s\n",
      "676:\tlearn: 0.3092511\ttotal: 4.86s\tremaining: 2.32s\n",
      "677:\tlearn: 0.3092476\ttotal: 4.87s\tremaining: 2.31s\n",
      "678:\tlearn: 0.3092475\ttotal: 4.87s\tremaining: 2.3s\n",
      "679:\tlearn: 0.3092324\ttotal: 4.87s\tremaining: 2.29s\n",
      "680:\tlearn: 0.3092045\ttotal: 4.88s\tremaining: 2.29s\n",
      "681:\tlearn: 0.3092011\ttotal: 4.88s\tremaining: 2.28s\n",
      "682:\tlearn: 0.3091573\ttotal: 4.89s\tremaining: 2.27s\n",
      "683:\tlearn: 0.3091535\ttotal: 4.89s\tremaining: 2.26s\n",
      "684:\tlearn: 0.3091488\ttotal: 4.89s\tremaining: 2.25s\n",
      "685:\tlearn: 0.3091353\ttotal: 4.9s\tremaining: 2.24s\n",
      "686:\tlearn: 0.3091223\ttotal: 4.9s\tremaining: 2.23s\n",
      "687:\tlearn: 0.3091201\ttotal: 4.91s\tremaining: 2.23s\n",
      "688:\tlearn: 0.3090871\ttotal: 4.91s\tremaining: 2.22s\n",
      "689:\tlearn: 0.3090437\ttotal: 4.92s\tremaining: 2.21s\n",
      "690:\tlearn: 0.3090401\ttotal: 4.92s\tremaining: 2.2s\n",
      "691:\tlearn: 0.3090103\ttotal: 4.93s\tremaining: 2.19s\n",
      "692:\tlearn: 0.3090064\ttotal: 4.93s\tremaining: 2.19s\n",
      "693:\tlearn: 0.3090054\ttotal: 4.94s\tremaining: 2.18s\n",
      "694:\tlearn: 0.3089739\ttotal: 4.94s\tremaining: 2.17s\n",
      "695:\tlearn: 0.3089727\ttotal: 4.95s\tremaining: 2.16s\n",
      "696:\tlearn: 0.3089458\ttotal: 4.95s\tremaining: 2.15s\n",
      "697:\tlearn: 0.3089023\ttotal: 4.95s\tremaining: 2.14s\n",
      "698:\tlearn: 0.3088999\ttotal: 4.96s\tremaining: 2.13s\n",
      "699:\tlearn: 0.3088981\ttotal: 4.96s\tremaining: 2.13s\n",
      "700:\tlearn: 0.3088973\ttotal: 4.97s\tremaining: 2.12s\n",
      "701:\tlearn: 0.3088845\ttotal: 4.97s\tremaining: 2.11s\n",
      "702:\tlearn: 0.3088833\ttotal: 4.97s\tremaining: 2.1s\n",
      "703:\tlearn: 0.3088822\ttotal: 4.98s\tremaining: 2.09s\n",
      "704:\tlearn: 0.3088346\ttotal: 4.98s\tremaining: 2.08s\n",
      "705:\tlearn: 0.3088001\ttotal: 4.99s\tremaining: 2.08s\n",
      "706:\tlearn: 0.3087940\ttotal: 4.99s\tremaining: 2.07s\n",
      "707:\tlearn: 0.3087917\ttotal: 5s\tremaining: 2.06s\n",
      "708:\tlearn: 0.3087672\ttotal: 5s\tremaining: 2.05s\n",
      "709:\tlearn: 0.3087579\ttotal: 5.01s\tremaining: 2.04s\n",
      "710:\tlearn: 0.3087561\ttotal: 5.01s\tremaining: 2.04s\n",
      "711:\tlearn: 0.3087537\ttotal: 5.01s\tremaining: 2.03s\n",
      "712:\tlearn: 0.3087528\ttotal: 5.02s\tremaining: 2.02s\n",
      "713:\tlearn: 0.3087478\ttotal: 5.03s\tremaining: 2.01s\n",
      "714:\tlearn: 0.3087461\ttotal: 5.03s\tremaining: 2s\n",
      "715:\tlearn: 0.3087342\ttotal: 5.03s\tremaining: 2s\n",
      "716:\tlearn: 0.3087308\ttotal: 5.04s\tremaining: 1.99s\n",
      "717:\tlearn: 0.3087290\ttotal: 5.05s\tremaining: 1.98s\n",
      "718:\tlearn: 0.3087286\ttotal: 5.05s\tremaining: 1.97s\n",
      "719:\tlearn: 0.3087238\ttotal: 5.06s\tremaining: 1.97s\n",
      "720:\tlearn: 0.3087129\ttotal: 5.06s\tremaining: 1.96s\n",
      "721:\tlearn: 0.3087104\ttotal: 5.07s\tremaining: 1.95s\n",
      "722:\tlearn: 0.3087058\ttotal: 5.08s\tremaining: 1.94s\n",
      "723:\tlearn: 0.3086884\ttotal: 5.08s\tremaining: 1.94s\n",
      "724:\tlearn: 0.3086486\ttotal: 5.08s\tremaining: 1.93s\n",
      "725:\tlearn: 0.3086445\ttotal: 5.09s\tremaining: 1.92s\n",
      "726:\tlearn: 0.3086370\ttotal: 5.1s\tremaining: 1.91s\n",
      "727:\tlearn: 0.3086347\ttotal: 5.1s\tremaining: 1.91s\n",
      "728:\tlearn: 0.3085978\ttotal: 5.11s\tremaining: 1.9s\n",
      "729:\tlearn: 0.3085955\ttotal: 5.11s\tremaining: 1.89s\n",
      "730:\tlearn: 0.3085523\ttotal: 5.12s\tremaining: 1.88s\n",
      "731:\tlearn: 0.3085476\ttotal: 5.13s\tremaining: 1.88s\n",
      "732:\tlearn: 0.3085464\ttotal: 5.13s\tremaining: 1.87s\n",
      "733:\tlearn: 0.3085283\ttotal: 5.13s\tremaining: 1.86s\n",
      "734:\tlearn: 0.3085244\ttotal: 5.14s\tremaining: 1.85s\n",
      "735:\tlearn: 0.3085114\ttotal: 5.15s\tremaining: 1.85s\n",
      "736:\tlearn: 0.3085083\ttotal: 5.15s\tremaining: 1.84s\n",
      "737:\tlearn: 0.3085001\ttotal: 5.16s\tremaining: 1.83s\n",
      "738:\tlearn: 0.3084978\ttotal: 5.16s\tremaining: 1.82s\n",
      "739:\tlearn: 0.3084516\ttotal: 5.17s\tremaining: 1.82s\n",
      "740:\tlearn: 0.3084471\ttotal: 5.18s\tremaining: 1.81s\n",
      "741:\tlearn: 0.3084467\ttotal: 5.18s\tremaining: 1.8s\n",
      "742:\tlearn: 0.3084322\ttotal: 5.19s\tremaining: 1.79s\n",
      "743:\tlearn: 0.3084245\ttotal: 5.19s\tremaining: 1.79s\n",
      "744:\tlearn: 0.3083973\ttotal: 5.2s\tremaining: 1.78s\n",
      "745:\tlearn: 0.3083762\ttotal: 5.2s\tremaining: 1.77s\n",
      "746:\tlearn: 0.3083726\ttotal: 5.21s\tremaining: 1.76s\n",
      "747:\tlearn: 0.3083695\ttotal: 5.21s\tremaining: 1.75s\n",
      "748:\tlearn: 0.3083562\ttotal: 5.22s\tremaining: 1.75s\n",
      "749:\tlearn: 0.3083385\ttotal: 5.22s\tremaining: 1.74s\n",
      "750:\tlearn: 0.3083325\ttotal: 5.22s\tremaining: 1.73s\n",
      "751:\tlearn: 0.3083325\ttotal: 5.23s\tremaining: 1.72s\n",
      "752:\tlearn: 0.3083288\ttotal: 5.23s\tremaining: 1.72s\n",
      "753:\tlearn: 0.3083230\ttotal: 5.24s\tremaining: 1.71s\n",
      "754:\tlearn: 0.3083097\ttotal: 5.24s\tremaining: 1.7s\n",
      "755:\tlearn: 0.3082765\ttotal: 5.25s\tremaining: 1.69s\n",
      "756:\tlearn: 0.3082738\ttotal: 5.25s\tremaining: 1.69s\n",
      "757:\tlearn: 0.3082714\ttotal: 5.26s\tremaining: 1.68s\n",
      "758:\tlearn: 0.3082641\ttotal: 5.26s\tremaining: 1.67s\n",
      "759:\tlearn: 0.3082641\ttotal: 5.26s\tremaining: 1.66s\n",
      "760:\tlearn: 0.3082336\ttotal: 5.27s\tremaining: 1.65s\n",
      "761:\tlearn: 0.3081956\ttotal: 5.27s\tremaining: 1.65s\n",
      "762:\tlearn: 0.3081945\ttotal: 5.28s\tremaining: 1.64s\n",
      "763:\tlearn: 0.3081934\ttotal: 5.28s\tremaining: 1.63s\n",
      "764:\tlearn: 0.3081900\ttotal: 5.28s\tremaining: 1.62s\n",
      "765:\tlearn: 0.3081794\ttotal: 5.29s\tremaining: 1.61s\n",
      "766:\tlearn: 0.3081724\ttotal: 5.29s\tremaining: 1.61s\n",
      "767:\tlearn: 0.3081646\ttotal: 5.3s\tremaining: 1.6s\n",
      "768:\tlearn: 0.3081491\ttotal: 5.3s\tremaining: 1.59s\n",
      "769:\tlearn: 0.3081135\ttotal: 5.3s\tremaining: 1.58s\n",
      "770:\tlearn: 0.3081113\ttotal: 5.31s\tremaining: 1.58s\n",
      "771:\tlearn: 0.3080768\ttotal: 5.31s\tremaining: 1.57s\n",
      "772:\tlearn: 0.3080637\ttotal: 5.32s\tremaining: 1.56s\n",
      "773:\tlearn: 0.3080494\ttotal: 5.32s\tremaining: 1.55s\n",
      "774:\tlearn: 0.3080444\ttotal: 5.33s\tremaining: 1.55s\n",
      "775:\tlearn: 0.3080424\ttotal: 5.33s\tremaining: 1.54s\n",
      "776:\tlearn: 0.3080358\ttotal: 5.33s\tremaining: 1.53s\n",
      "777:\tlearn: 0.3080358\ttotal: 5.34s\tremaining: 1.52s\n",
      "778:\tlearn: 0.3080239\ttotal: 5.34s\tremaining: 1.51s\n",
      "779:\tlearn: 0.3080071\ttotal: 5.36s\tremaining: 1.51s\n",
      "780:\tlearn: 0.3079603\ttotal: 5.39s\tremaining: 1.51s\n",
      "781:\tlearn: 0.3079568\ttotal: 5.4s\tremaining: 1.5s\n",
      "782:\tlearn: 0.3079531\ttotal: 5.4s\tremaining: 1.5s\n",
      "783:\tlearn: 0.3079522\ttotal: 5.42s\tremaining: 1.49s\n",
      "784:\tlearn: 0.3079458\ttotal: 5.43s\tremaining: 1.49s\n",
      "785:\tlearn: 0.3079456\ttotal: 5.45s\tremaining: 1.48s\n",
      "786:\tlearn: 0.3079446\ttotal: 5.45s\tremaining: 1.48s\n",
      "787:\tlearn: 0.3079418\ttotal: 5.46s\tremaining: 1.47s\n",
      "788:\tlearn: 0.3079285\ttotal: 5.48s\tremaining: 1.46s\n",
      "789:\tlearn: 0.3079276\ttotal: 5.49s\tremaining: 1.46s\n",
      "790:\tlearn: 0.3079268\ttotal: 5.5s\tremaining: 1.45s\n",
      "791:\tlearn: 0.3079109\ttotal: 5.51s\tremaining: 1.45s\n",
      "792:\tlearn: 0.3079010\ttotal: 5.53s\tremaining: 1.44s\n",
      "793:\tlearn: 0.3078906\ttotal: 5.54s\tremaining: 1.44s\n",
      "794:\tlearn: 0.3078845\ttotal: 5.54s\tremaining: 1.43s\n",
      "795:\tlearn: 0.3078775\ttotal: 5.55s\tremaining: 1.42s\n",
      "796:\tlearn: 0.3078645\ttotal: 5.55s\tremaining: 1.41s\n",
      "797:\tlearn: 0.3078629\ttotal: 5.56s\tremaining: 1.41s\n",
      "798:\tlearn: 0.3078593\ttotal: 5.56s\tremaining: 1.4s\n",
      "799:\tlearn: 0.3078254\ttotal: 5.57s\tremaining: 1.39s\n",
      "800:\tlearn: 0.3078159\ttotal: 5.57s\tremaining: 1.38s\n",
      "801:\tlearn: 0.3078153\ttotal: 5.58s\tremaining: 1.38s\n",
      "802:\tlearn: 0.3078066\ttotal: 5.58s\tremaining: 1.37s\n",
      "803:\tlearn: 0.3077803\ttotal: 5.59s\tremaining: 1.36s\n",
      "804:\tlearn: 0.3077534\ttotal: 5.59s\tremaining: 1.35s\n",
      "805:\tlearn: 0.3077508\ttotal: 5.6s\tremaining: 1.35s\n",
      "806:\tlearn: 0.3077475\ttotal: 5.6s\tremaining: 1.34s\n",
      "807:\tlearn: 0.3077283\ttotal: 5.6s\tremaining: 1.33s\n",
      "808:\tlearn: 0.3077226\ttotal: 5.61s\tremaining: 1.32s\n",
      "809:\tlearn: 0.3077205\ttotal: 5.61s\tremaining: 1.32s\n",
      "810:\tlearn: 0.3076833\ttotal: 5.62s\tremaining: 1.31s\n",
      "811:\tlearn: 0.3076198\ttotal: 5.64s\tremaining: 1.3s\n",
      "812:\tlearn: 0.3076181\ttotal: 5.64s\tremaining: 1.3s\n",
      "813:\tlearn: 0.3075687\ttotal: 5.65s\tremaining: 1.29s\n",
      "814:\tlearn: 0.3075675\ttotal: 5.65s\tremaining: 1.28s\n",
      "815:\tlearn: 0.3075546\ttotal: 5.66s\tremaining: 1.28s\n",
      "816:\tlearn: 0.3075527\ttotal: 5.66s\tremaining: 1.27s\n",
      "817:\tlearn: 0.3075473\ttotal: 5.67s\tremaining: 1.26s\n",
      "818:\tlearn: 0.3075424\ttotal: 5.68s\tremaining: 1.25s\n",
      "819:\tlearn: 0.3075245\ttotal: 5.69s\tremaining: 1.25s\n",
      "820:\tlearn: 0.3075025\ttotal: 5.69s\tremaining: 1.24s\n",
      "821:\tlearn: 0.3074865\ttotal: 5.7s\tremaining: 1.23s\n",
      "822:\tlearn: 0.3074864\ttotal: 5.7s\tremaining: 1.23s\n",
      "823:\tlearn: 0.3074833\ttotal: 5.71s\tremaining: 1.22s\n",
      "824:\tlearn: 0.3074568\ttotal: 5.71s\tremaining: 1.21s\n",
      "825:\tlearn: 0.3074539\ttotal: 5.72s\tremaining: 1.21s\n",
      "826:\tlearn: 0.3074330\ttotal: 5.73s\tremaining: 1.2s\n",
      "827:\tlearn: 0.3074120\ttotal: 5.74s\tremaining: 1.19s\n",
      "828:\tlearn: 0.3073898\ttotal: 5.75s\tremaining: 1.19s\n",
      "829:\tlearn: 0.3073873\ttotal: 5.76s\tremaining: 1.18s\n",
      "830:\tlearn: 0.3073208\ttotal: 5.76s\tremaining: 1.17s\n",
      "831:\tlearn: 0.3073019\ttotal: 5.77s\tremaining: 1.17s\n",
      "832:\tlearn: 0.3073011\ttotal: 5.78s\tremaining: 1.16s\n",
      "833:\tlearn: 0.3072621\ttotal: 5.78s\tremaining: 1.15s\n",
      "834:\tlearn: 0.3072586\ttotal: 5.79s\tremaining: 1.14s\n",
      "835:\tlearn: 0.3072482\ttotal: 5.79s\tremaining: 1.14s\n",
      "836:\tlearn: 0.3071960\ttotal: 5.8s\tremaining: 1.13s\n",
      "837:\tlearn: 0.3071746\ttotal: 5.8s\tremaining: 1.12s\n",
      "838:\tlearn: 0.3071728\ttotal: 5.81s\tremaining: 1.11s\n",
      "839:\tlearn: 0.3071707\ttotal: 5.82s\tremaining: 1.11s\n",
      "840:\tlearn: 0.3071706\ttotal: 5.83s\tremaining: 1.1s\n",
      "841:\tlearn: 0.3071658\ttotal: 5.83s\tremaining: 1.09s\n",
      "842:\tlearn: 0.3071627\ttotal: 5.84s\tremaining: 1.09s\n",
      "843:\tlearn: 0.3071583\ttotal: 5.84s\tremaining: 1.08s\n",
      "844:\tlearn: 0.3071532\ttotal: 5.85s\tremaining: 1.07s\n",
      "845:\tlearn: 0.3071526\ttotal: 5.86s\tremaining: 1.06s\n",
      "846:\tlearn: 0.3071516\ttotal: 5.86s\tremaining: 1.06s\n",
      "847:\tlearn: 0.3071439\ttotal: 5.87s\tremaining: 1.05s\n",
      "848:\tlearn: 0.3071402\ttotal: 5.87s\tremaining: 1.04s\n",
      "849:\tlearn: 0.3071035\ttotal: 5.88s\tremaining: 1.04s\n",
      "850:\tlearn: 0.3070986\ttotal: 5.89s\tremaining: 1.03s\n",
      "851:\tlearn: 0.3070931\ttotal: 5.89s\tremaining: 1.02s\n",
      "852:\tlearn: 0.3070866\ttotal: 5.9s\tremaining: 1.02s\n",
      "853:\tlearn: 0.3070850\ttotal: 5.9s\tremaining: 1.01s\n",
      "854:\tlearn: 0.3070839\ttotal: 5.91s\tremaining: 1s\n",
      "855:\tlearn: 0.3070824\ttotal: 5.92s\tremaining: 995ms\n",
      "856:\tlearn: 0.3070612\ttotal: 5.92s\tremaining: 988ms\n",
      "857:\tlearn: 0.3070535\ttotal: 5.93s\tremaining: 981ms\n",
      "858:\tlearn: 0.3070525\ttotal: 5.93s\tremaining: 974ms\n",
      "859:\tlearn: 0.3070458\ttotal: 5.94s\tremaining: 967ms\n",
      "860:\tlearn: 0.3070416\ttotal: 5.95s\tremaining: 960ms\n",
      "861:\tlearn: 0.3070225\ttotal: 5.96s\tremaining: 954ms\n",
      "862:\tlearn: 0.3070217\ttotal: 5.96s\tremaining: 947ms\n",
      "863:\tlearn: 0.3070207\ttotal: 5.97s\tremaining: 940ms\n",
      "864:\tlearn: 0.3070201\ttotal: 5.98s\tremaining: 933ms\n",
      "865:\tlearn: 0.3070052\ttotal: 5.98s\tremaining: 926ms\n",
      "866:\tlearn: 0.3069434\ttotal: 5.99s\tremaining: 918ms\n",
      "867:\tlearn: 0.3069378\ttotal: 5.99s\tremaining: 911ms\n",
      "868:\tlearn: 0.3069165\ttotal: 6s\tremaining: 904ms\n",
      "869:\tlearn: 0.3069106\ttotal: 6s\tremaining: 897ms\n",
      "870:\tlearn: 0.3069031\ttotal: 6.01s\tremaining: 890ms\n",
      "871:\tlearn: 0.3068892\ttotal: 6.02s\tremaining: 883ms\n",
      "872:\tlearn: 0.3068800\ttotal: 6.02s\tremaining: 876ms\n",
      "873:\tlearn: 0.3068741\ttotal: 6.03s\tremaining: 869ms\n",
      "874:\tlearn: 0.3068563\ttotal: 6.03s\tremaining: 861ms\n",
      "875:\tlearn: 0.3068561\ttotal: 6.04s\tremaining: 854ms\n",
      "876:\tlearn: 0.3068341\ttotal: 6.04s\tremaining: 847ms\n",
      "877:\tlearn: 0.3068270\ttotal: 6.05s\tremaining: 841ms\n",
      "878:\tlearn: 0.3068247\ttotal: 6.06s\tremaining: 834ms\n",
      "879:\tlearn: 0.3068077\ttotal: 6.06s\tremaining: 827ms\n",
      "880:\tlearn: 0.3068059\ttotal: 6.07s\tremaining: 820ms\n",
      "881:\tlearn: 0.3068059\ttotal: 6.08s\tremaining: 813ms\n",
      "882:\tlearn: 0.3067694\ttotal: 6.08s\tremaining: 806ms\n",
      "883:\tlearn: 0.3067575\ttotal: 6.09s\tremaining: 799ms\n",
      "884:\tlearn: 0.3067548\ttotal: 6.1s\tremaining: 793ms\n",
      "885:\tlearn: 0.3067280\ttotal: 6.11s\tremaining: 786ms\n",
      "886:\tlearn: 0.3067231\ttotal: 6.11s\tremaining: 778ms\n",
      "887:\tlearn: 0.3067209\ttotal: 6.11s\tremaining: 771ms\n",
      "888:\tlearn: 0.3067135\ttotal: 6.12s\tremaining: 764ms\n",
      "889:\tlearn: 0.3067105\ttotal: 6.12s\tremaining: 757ms\n",
      "890:\tlearn: 0.3067050\ttotal: 6.13s\tremaining: 749ms\n",
      "891:\tlearn: 0.3067013\ttotal: 6.13s\tremaining: 742ms\n",
      "892:\tlearn: 0.3067013\ttotal: 6.13s\tremaining: 735ms\n",
      "893:\tlearn: 0.3066869\ttotal: 6.14s\tremaining: 728ms\n",
      "894:\tlearn: 0.3066775\ttotal: 6.15s\tremaining: 721ms\n",
      "895:\tlearn: 0.3066767\ttotal: 6.15s\tremaining: 714ms\n",
      "896:\tlearn: 0.3066738\ttotal: 6.15s\tremaining: 707ms\n",
      "897:\tlearn: 0.3066722\ttotal: 6.16s\tremaining: 699ms\n",
      "898:\tlearn: 0.3066702\ttotal: 6.16s\tremaining: 692ms\n",
      "899:\tlearn: 0.3066614\ttotal: 6.17s\tremaining: 685ms\n",
      "900:\tlearn: 0.3066410\ttotal: 6.17s\tremaining: 678ms\n",
      "901:\tlearn: 0.3066160\ttotal: 6.18s\tremaining: 671ms\n",
      "902:\tlearn: 0.3065826\ttotal: 6.18s\tremaining: 664ms\n",
      "903:\tlearn: 0.3065780\ttotal: 6.19s\tremaining: 657ms\n",
      "904:\tlearn: 0.3065760\ttotal: 6.19s\tremaining: 650ms\n",
      "905:\tlearn: 0.3065752\ttotal: 6.2s\tremaining: 643ms\n",
      "906:\tlearn: 0.3065323\ttotal: 6.2s\tremaining: 636ms\n",
      "907:\tlearn: 0.3065151\ttotal: 6.21s\tremaining: 629ms\n",
      "908:\tlearn: 0.3064852\ttotal: 6.21s\tremaining: 622ms\n",
      "909:\tlearn: 0.3064641\ttotal: 6.22s\tremaining: 615ms\n",
      "910:\tlearn: 0.3064479\ttotal: 6.22s\tremaining: 608ms\n",
      "911:\tlearn: 0.3064223\ttotal: 6.23s\tremaining: 601ms\n",
      "912:\tlearn: 0.3063944\ttotal: 6.24s\tremaining: 594ms\n",
      "913:\tlearn: 0.3063927\ttotal: 6.24s\tremaining: 587ms\n",
      "914:\tlearn: 0.3063912\ttotal: 6.25s\tremaining: 580ms\n",
      "915:\tlearn: 0.3063895\ttotal: 6.25s\tremaining: 573ms\n",
      "916:\tlearn: 0.3063872\ttotal: 6.26s\tremaining: 567ms\n",
      "917:\tlearn: 0.3063616\ttotal: 6.27s\tremaining: 560ms\n",
      "918:\tlearn: 0.3063616\ttotal: 6.27s\tremaining: 553ms\n",
      "919:\tlearn: 0.3063607\ttotal: 6.29s\tremaining: 547ms\n",
      "920:\tlearn: 0.3063556\ttotal: 6.29s\tremaining: 540ms\n",
      "921:\tlearn: 0.3063510\ttotal: 6.3s\tremaining: 533ms\n",
      "922:\tlearn: 0.3063503\ttotal: 6.3s\tremaining: 526ms\n",
      "923:\tlearn: 0.3063457\ttotal: 6.31s\tremaining: 519ms\n",
      "924:\tlearn: 0.3063376\ttotal: 6.31s\tremaining: 512ms\n",
      "925:\tlearn: 0.3063353\ttotal: 6.32s\tremaining: 505ms\n",
      "926:\tlearn: 0.3063204\ttotal: 6.32s\tremaining: 498ms\n",
      "927:\tlearn: 0.3063015\ttotal: 6.32s\tremaining: 491ms\n",
      "928:\tlearn: 0.3062752\ttotal: 6.33s\tremaining: 484ms\n",
      "929:\tlearn: 0.3062524\ttotal: 6.34s\tremaining: 477ms\n",
      "930:\tlearn: 0.3062493\ttotal: 6.34s\tremaining: 470ms\n",
      "931:\tlearn: 0.3062489\ttotal: 6.34s\tremaining: 463ms\n",
      "932:\tlearn: 0.3062289\ttotal: 6.35s\tremaining: 456ms\n",
      "933:\tlearn: 0.3062282\ttotal: 6.35s\tremaining: 449ms\n",
      "934:\tlearn: 0.3062269\ttotal: 6.36s\tremaining: 442ms\n",
      "935:\tlearn: 0.3062223\ttotal: 6.36s\tremaining: 435ms\n",
      "936:\tlearn: 0.3062008\ttotal: 6.37s\tremaining: 428ms\n",
      "937:\tlearn: 0.3061972\ttotal: 6.37s\tremaining: 421ms\n",
      "938:\tlearn: 0.3061947\ttotal: 6.37s\tremaining: 414ms\n",
      "939:\tlearn: 0.3061905\ttotal: 6.38s\tremaining: 407ms\n",
      "940:\tlearn: 0.3061872\ttotal: 6.38s\tremaining: 400ms\n",
      "941:\tlearn: 0.3061700\ttotal: 6.39s\tremaining: 393ms\n",
      "942:\tlearn: 0.3061655\ttotal: 6.39s\tremaining: 386ms\n",
      "943:\tlearn: 0.3061574\ttotal: 6.39s\tremaining: 379ms\n",
      "944:\tlearn: 0.3061450\ttotal: 6.4s\tremaining: 372ms\n",
      "945:\tlearn: 0.3061219\ttotal: 6.41s\tremaining: 366ms\n",
      "946:\tlearn: 0.3061074\ttotal: 6.41s\tremaining: 359ms\n",
      "947:\tlearn: 0.3061034\ttotal: 6.41s\tremaining: 352ms\n",
      "948:\tlearn: 0.3061019\ttotal: 6.42s\tremaining: 345ms\n",
      "949:\tlearn: 0.3061012\ttotal: 6.43s\tremaining: 338ms\n",
      "950:\tlearn: 0.3061001\ttotal: 6.43s\tremaining: 331ms\n",
      "951:\tlearn: 0.3060711\ttotal: 6.43s\tremaining: 324ms\n",
      "952:\tlearn: 0.3060695\ttotal: 6.44s\tremaining: 318ms\n",
      "953:\tlearn: 0.3060693\ttotal: 6.44s\tremaining: 311ms\n",
      "954:\tlearn: 0.3060682\ttotal: 6.45s\tremaining: 304ms\n",
      "955:\tlearn: 0.3060634\ttotal: 6.45s\tremaining: 297ms\n",
      "956:\tlearn: 0.3060627\ttotal: 6.45s\tremaining: 290ms\n",
      "957:\tlearn: 0.3060613\ttotal: 6.46s\tremaining: 283ms\n",
      "958:\tlearn: 0.3060474\ttotal: 6.46s\tremaining: 276ms\n",
      "959:\tlearn: 0.3060474\ttotal: 6.46s\tremaining: 269ms\n",
      "960:\tlearn: 0.3060465\ttotal: 6.47s\tremaining: 263ms\n",
      "961:\tlearn: 0.3060271\ttotal: 6.47s\tremaining: 256ms\n",
      "962:\tlearn: 0.3060245\ttotal: 6.48s\tremaining: 249ms\n",
      "963:\tlearn: 0.3060239\ttotal: 6.48s\tremaining: 242ms\n",
      "964:\tlearn: 0.3060233\ttotal: 6.49s\tremaining: 235ms\n",
      "965:\tlearn: 0.3060191\ttotal: 6.49s\tremaining: 229ms\n",
      "966:\tlearn: 0.3060151\ttotal: 6.5s\tremaining: 222ms\n",
      "967:\tlearn: 0.3060107\ttotal: 6.5s\tremaining: 215ms\n",
      "968:\tlearn: 0.3060095\ttotal: 6.5s\tremaining: 208ms\n",
      "969:\tlearn: 0.3060080\ttotal: 6.51s\tremaining: 201ms\n",
      "970:\tlearn: 0.3060067\ttotal: 6.52s\tremaining: 195ms\n",
      "971:\tlearn: 0.3060059\ttotal: 6.52s\tremaining: 188ms\n",
      "972:\tlearn: 0.3060052\ttotal: 6.53s\tremaining: 181ms\n",
      "973:\tlearn: 0.3060041\ttotal: 6.53s\tremaining: 174ms\n",
      "974:\tlearn: 0.3059945\ttotal: 6.53s\tremaining: 168ms\n",
      "975:\tlearn: 0.3059933\ttotal: 6.54s\tremaining: 161ms\n",
      "976:\tlearn: 0.3059927\ttotal: 6.54s\tremaining: 154ms\n",
      "977:\tlearn: 0.3059902\ttotal: 6.55s\tremaining: 147ms\n",
      "978:\tlearn: 0.3059694\ttotal: 6.55s\tremaining: 141ms\n",
      "979:\tlearn: 0.3059678\ttotal: 6.56s\tremaining: 134ms\n",
      "980:\tlearn: 0.3059654\ttotal: 6.56s\tremaining: 127ms\n",
      "981:\tlearn: 0.3059648\ttotal: 6.57s\tremaining: 120ms\n",
      "982:\tlearn: 0.3059591\ttotal: 6.57s\tremaining: 114ms\n",
      "983:\tlearn: 0.3059220\ttotal: 6.58s\tremaining: 107ms\n",
      "984:\tlearn: 0.3059216\ttotal: 6.58s\tremaining: 100ms\n",
      "985:\tlearn: 0.3058805\ttotal: 6.59s\tremaining: 93.5ms\n",
      "986:\tlearn: 0.3058795\ttotal: 6.59s\tremaining: 86.8ms\n",
      "987:\tlearn: 0.3058454\ttotal: 6.6s\tremaining: 80.1ms\n",
      "988:\tlearn: 0.3058426\ttotal: 6.6s\tremaining: 73.4ms\n",
      "989:\tlearn: 0.3058418\ttotal: 6.61s\tremaining: 66.7ms\n",
      "990:\tlearn: 0.3058418\ttotal: 6.61s\tremaining: 60ms\n",
      "991:\tlearn: 0.3058407\ttotal: 6.61s\tremaining: 53.3ms\n",
      "992:\tlearn: 0.3058379\ttotal: 6.62s\tremaining: 46.7ms\n",
      "993:\tlearn: 0.3058324\ttotal: 6.62s\tremaining: 40ms\n",
      "994:\tlearn: 0.3058203\ttotal: 6.63s\tremaining: 33.3ms\n",
      "995:\tlearn: 0.3058196\ttotal: 6.63s\tremaining: 26.6ms\n",
      "996:\tlearn: 0.3058167\ttotal: 6.63s\tremaining: 20ms\n",
      "997:\tlearn: 0.3057937\ttotal: 6.64s\tremaining: 13.3ms\n",
      "998:\tlearn: 0.3057897\ttotal: 6.64s\tremaining: 6.65ms\n",
      "999:\tlearn: 0.3057859\ttotal: 6.65s\tremaining: 0us\n",
      "Training:  46.15%\n",
      "Test set:  39.69%\n"
     ]
    },
    {
     "ename": "ValueError",
     "evalue": "Classification metrics can't handle a mix of binary and continuous targets",
     "output_type": "error",
     "traceback": [
      "\u001b[0;31m---------------------------------------------------------------------------\u001b[0m",
      "\u001b[0;31mValueError\u001b[0m                                Traceback (most recent call last)",
      "\u001b[0;32m<ipython-input-217-cb999dbf1f2d>\u001b[0m in \u001b[0;36m<module>\u001b[0;34m\u001b[0m\n\u001b[1;32m      7\u001b[0m \u001b[0mprint\u001b[0m\u001b[0;34m(\u001b[0m\u001b[0;34m\"Training: {:6.2f}%\"\u001b[0m\u001b[0;34m.\u001b[0m\u001b[0mformat\u001b[0m\u001b[0;34m(\u001b[0m\u001b[0;36m100\u001b[0m\u001b[0;34m*\u001b[0m\u001b[0mmodel_cat\u001b[0m\u001b[0;34m.\u001b[0m\u001b[0mscore\u001b[0m\u001b[0;34m(\u001b[0m\u001b[0mX_train\u001b[0m\u001b[0;34m,\u001b[0m \u001b[0my_train\u001b[0m\u001b[0;34m)\u001b[0m\u001b[0;34m)\u001b[0m\u001b[0;34m)\u001b[0m\u001b[0;34m\u001b[0m\u001b[0;34m\u001b[0m\u001b[0m\n\u001b[1;32m      8\u001b[0m \u001b[0mprint\u001b[0m\u001b[0;34m(\u001b[0m\u001b[0;34m\"Test set: {:6.2f}%\"\u001b[0m\u001b[0;34m.\u001b[0m\u001b[0mformat\u001b[0m\u001b[0;34m(\u001b[0m\u001b[0;36m100\u001b[0m\u001b[0;34m*\u001b[0m\u001b[0mmodel_cat\u001b[0m\u001b[0;34m.\u001b[0m\u001b[0mscore\u001b[0m\u001b[0;34m(\u001b[0m\u001b[0mX_test\u001b[0m\u001b[0;34m,\u001b[0m \u001b[0my_test\u001b[0m\u001b[0;34m)\u001b[0m\u001b[0;34m)\u001b[0m\u001b[0;34m)\u001b[0m\u001b[0;34m\u001b[0m\u001b[0;34m\u001b[0m\u001b[0m\n\u001b[0;32m----> 9\u001b[0;31m \u001b[0maccuracy\u001b[0m \u001b[0;34m=\u001b[0m \u001b[0maccuracy_score\u001b[0m\u001b[0;34m(\u001b[0m\u001b[0my_test\u001b[0m\u001b[0;34m,\u001b[0m \u001b[0myhat\u001b[0m\u001b[0;34m)\u001b[0m\u001b[0;34m\u001b[0m\u001b[0;34m\u001b[0m\u001b[0m\n\u001b[0m\u001b[1;32m     10\u001b[0m \u001b[0mroc_auc\u001b[0m \u001b[0;34m=\u001b[0m \u001b[0mroc_auc_score\u001b[0m\u001b[0;34m(\u001b[0m\u001b[0my_test\u001b[0m\u001b[0;34m,\u001b[0m \u001b[0myhat\u001b[0m\u001b[0;34m)\u001b[0m\u001b[0;34m\u001b[0m\u001b[0;34m\u001b[0m\u001b[0m\n\u001b[1;32m     11\u001b[0m \u001b[0mprint\u001b[0m\u001b[0;34m(\u001b[0m\u001b[0;34m'Accuracy_: %.2f'\u001b[0m \u001b[0;34m%\u001b[0m \u001b[0;34m(\u001b[0m\u001b[0maccuracy\u001b[0m\u001b[0;34m*\u001b[0m\u001b[0;36m100\u001b[0m\u001b[0;34m)\u001b[0m\u001b[0;34m)\u001b[0m\u001b[0;34m\u001b[0m\u001b[0;34m\u001b[0m\u001b[0m\n",
      "\u001b[0;32m/opt/anaconda3/envs/metis/lib/python3.8/site-packages/sklearn/utils/validation.py\u001b[0m in \u001b[0;36minner_f\u001b[0;34m(*args, **kwargs)\u001b[0m\n\u001b[1;32m     70\u001b[0m                           FutureWarning)\n\u001b[1;32m     71\u001b[0m         \u001b[0mkwargs\u001b[0m\u001b[0;34m.\u001b[0m\u001b[0mupdate\u001b[0m\u001b[0;34m(\u001b[0m\u001b[0;34m{\u001b[0m\u001b[0mk\u001b[0m\u001b[0;34m:\u001b[0m \u001b[0marg\u001b[0m \u001b[0;32mfor\u001b[0m \u001b[0mk\u001b[0m\u001b[0;34m,\u001b[0m \u001b[0marg\u001b[0m \u001b[0;32min\u001b[0m \u001b[0mzip\u001b[0m\u001b[0;34m(\u001b[0m\u001b[0msig\u001b[0m\u001b[0;34m.\u001b[0m\u001b[0mparameters\u001b[0m\u001b[0;34m,\u001b[0m \u001b[0margs\u001b[0m\u001b[0;34m)\u001b[0m\u001b[0;34m}\u001b[0m\u001b[0;34m)\u001b[0m\u001b[0;34m\u001b[0m\u001b[0;34m\u001b[0m\u001b[0m\n\u001b[0;32m---> 72\u001b[0;31m         \u001b[0;32mreturn\u001b[0m \u001b[0mf\u001b[0m\u001b[0;34m(\u001b[0m\u001b[0;34m**\u001b[0m\u001b[0mkwargs\u001b[0m\u001b[0;34m)\u001b[0m\u001b[0;34m\u001b[0m\u001b[0;34m\u001b[0m\u001b[0m\n\u001b[0m\u001b[1;32m     73\u001b[0m     \u001b[0;32mreturn\u001b[0m \u001b[0minner_f\u001b[0m\u001b[0;34m\u001b[0m\u001b[0;34m\u001b[0m\u001b[0m\n\u001b[1;32m     74\u001b[0m \u001b[0;34m\u001b[0m\u001b[0m\n",
      "\u001b[0;32m/opt/anaconda3/envs/metis/lib/python3.8/site-packages/sklearn/metrics/_classification.py\u001b[0m in \u001b[0;36maccuracy_score\u001b[0;34m(y_true, y_pred, normalize, sample_weight)\u001b[0m\n\u001b[1;32m    185\u001b[0m \u001b[0;34m\u001b[0m\u001b[0m\n\u001b[1;32m    186\u001b[0m     \u001b[0;31m# Compute accuracy for each possible representation\u001b[0m\u001b[0;34m\u001b[0m\u001b[0;34m\u001b[0m\u001b[0;34m\u001b[0m\u001b[0m\n\u001b[0;32m--> 187\u001b[0;31m     \u001b[0my_type\u001b[0m\u001b[0;34m,\u001b[0m \u001b[0my_true\u001b[0m\u001b[0;34m,\u001b[0m \u001b[0my_pred\u001b[0m \u001b[0;34m=\u001b[0m \u001b[0m_check_targets\u001b[0m\u001b[0;34m(\u001b[0m\u001b[0my_true\u001b[0m\u001b[0;34m,\u001b[0m \u001b[0my_pred\u001b[0m\u001b[0;34m)\u001b[0m\u001b[0;34m\u001b[0m\u001b[0;34m\u001b[0m\u001b[0m\n\u001b[0m\u001b[1;32m    188\u001b[0m     \u001b[0mcheck_consistent_length\u001b[0m\u001b[0;34m(\u001b[0m\u001b[0my_true\u001b[0m\u001b[0;34m,\u001b[0m \u001b[0my_pred\u001b[0m\u001b[0;34m,\u001b[0m \u001b[0msample_weight\u001b[0m\u001b[0;34m)\u001b[0m\u001b[0;34m\u001b[0m\u001b[0;34m\u001b[0m\u001b[0m\n\u001b[1;32m    189\u001b[0m     \u001b[0;32mif\u001b[0m \u001b[0my_type\u001b[0m\u001b[0;34m.\u001b[0m\u001b[0mstartswith\u001b[0m\u001b[0;34m(\u001b[0m\u001b[0;34m'multilabel'\u001b[0m\u001b[0;34m)\u001b[0m\u001b[0;34m:\u001b[0m\u001b[0;34m\u001b[0m\u001b[0;34m\u001b[0m\u001b[0m\n",
      "\u001b[0;32m/opt/anaconda3/envs/metis/lib/python3.8/site-packages/sklearn/metrics/_classification.py\u001b[0m in \u001b[0;36m_check_targets\u001b[0;34m(y_true, y_pred)\u001b[0m\n\u001b[1;32m     88\u001b[0m \u001b[0;34m\u001b[0m\u001b[0m\n\u001b[1;32m     89\u001b[0m     \u001b[0;32mif\u001b[0m \u001b[0mlen\u001b[0m\u001b[0;34m(\u001b[0m\u001b[0my_type\u001b[0m\u001b[0;34m)\u001b[0m \u001b[0;34m>\u001b[0m \u001b[0;36m1\u001b[0m\u001b[0;34m:\u001b[0m\u001b[0;34m\u001b[0m\u001b[0;34m\u001b[0m\u001b[0m\n\u001b[0;32m---> 90\u001b[0;31m         raise ValueError(\"Classification metrics can't handle a mix of {0} \"\n\u001b[0m\u001b[1;32m     91\u001b[0m                          \"and {1} targets\".format(type_true, type_pred))\n\u001b[1;32m     92\u001b[0m \u001b[0;34m\u001b[0m\u001b[0m\n",
      "\u001b[0;31mValueError\u001b[0m: Classification metrics can't handle a mix of binary and continuous targets"
     ]
    }
   ],
   "source": [
    "model_cat = CatBoostRegressor()\n",
    "# fit on the training set\n",
    "model_cat.fit(X_train, y_train)\n",
    "# predict on test set\n",
    "yhat = model_cat.predict(X_test)\n",
    "# evaluate predictions\n",
    "print(\"Training: {:6.2f}%\".format(100*model_cat.score(X_train, y_train)))\n",
    "print(\"Test set: {:6.2f}%\".format(100*model_cat.score(X_test, y_test)))\n",
    "accuracy = accuracy_score(y_test, yhat)\n",
    "roc_auc = roc_auc_score(y_test, yhat)\n",
    "print('Accuracy_: %.2f' % (accuracy*100))\n",
    "print('roc_auc_score: %.2f' % (roc_auc*100))\n",
    "print(classification_report(y_test, yhat))"
   ]
  },
  {
   "cell_type": "code",
   "execution_count": 222,
   "metadata": {},
   "outputs": [
    {
     "name": "stdout",
     "output_type": "stream",
     "text": [
      "roc_auc_score: 90.40\n"
     ]
    }
   ],
   "source": [
    "roc_auc = roc_auc_score(y_test, yhat)\n",
    "print('roc_auc_score: %.2f' % (roc_auc*100))\n"
   ]
  },
  {
   "cell_type": "code",
   "execution_count": 238,
   "metadata": {},
   "outputs": [
    {
     "data": {
      "image/png": "[encoded data removed]",
      "text/plain": [
       "<Figure size 864x576 with 1 Axes>"
      ]
     },
     "metadata": {
      "needs_background": "light"
     },
     "output_type": "display_data"
    }
   ],
   "source": [
    "plt.figure(figsize=(12,8))\n",
    "fpr, tpr, thresholds = roc_curve(y_test, yhat)\n",
    "plt.plot(fpr, tpr,lw=2,c='navy')\n",
    "plt.plot([0,1],[0,1],c='purple',ls='--')\n",
    "plt.xlim([-0.05,1.05])\n",
    "plt.ylim([-0.05,1.05])\n",
    "\n",
    "plt.xlabel('False positive rate')\n",
    "plt.ylabel('True positive rate')\n",
    "plt.title('ROC curve for fraud problem');\n",
    "plt.savefig(\"Roc_CatBoost.svg\")"
   ]
  },
  {
   "cell_type": "code",
   "execution_count": 223,
   "metadata": {},
   "outputs": [
    {
     "data": {
      "image/png": "[encoded data removed]",
      "text/plain": [
       "<Figure size 432x288 with 1 Axes>"
      ]
     },
     "metadata": {
      "needs_background": "light"
     },
     "output_type": "display_data"
    }
   ],
   "source": [
    "importance = model_cat.get_feature_importance()\n",
    "plt.bar([x for x in range(len(importance))], importance);"
   ]
  },
  {
   "cell_type": "code",
   "execution_count": 224,
   "metadata": {},
   "outputs": [],
   "source": [
    "indices = np.argsort(importance)[-30:]\n",
    "\n",
    "feature_raw=[]\n",
    "for i in indices:\n",
    "    feature_raw.append(names[i])\n",
    "\n",
    "feature_clean=[]\n",
    "for i in feature_raw:\n",
    "    if \".\" in (i.split(\"_\")[-1]):\n",
    "        feature_clean.append(\"_\".join(i.split(\"_\")[:-1]))b\n",
    "    else:\n",
    "        feature_clean.append(i)\n",
    "        \n",
    "zip_list=list(zip(feature_clean, importance[-30:]))\n",
    "\n",
    "imp=defaultdict(float)\n",
    "for i in zip_list:\n",
    "    imp[i[0]]+=i[1]\n",
    "    \n",
    "imp_df=pd.Series(imp).sort_values(ascending = False)\n",
    "imp_df = pd.DataFrame(imp_df)\n",
    "imp_df.reset_index(inplace=True)\n",
    "imp_df.rename(columns = {'index':'features', 0:'importance'}, inplace = True)"
   ]
  },
  {
   "cell_type": "code",
   "execution_count": 230,
   "metadata": {},
   "outputs": [
    {
     "data": {
      "image/png": "[encoded data removed]",
      "text/plain": [
       "<Figure size 864x576 with 1 Axes>"
      ]
     },
     "metadata": {
      "needs_background": "light"
     },
     "output_type": "display_data"
    }
   ],
   "source": [
    "plt.figure(figsize=(12,8))\n",
    "ax = sns.barplot(x='importance', y='features', data=imp_df, palette=sns.color_palette(\"YlOrRd\", 10))\n",
    "# plt.xticks(rotation='vertical')\n",
    "ax.grid(b=True, which='major', color='#d3d3d3', linewidth=1.0)\n",
    "ax.grid(b=True, which='minor', color='#d3d3d3', linewidth=0.5)\n",
    "plt.show()"
   ]
  },
  {
   "cell_type": "code",
   "execution_count": 235,
   "metadata": {},
   "outputs": [
    {
     "data": {
      "text/plain": [
       "{'age_group_55 - 64 Years',\n",
       " 'behavioral_touch_face',\n",
       " 'census_msa_MSA, Not Principle  City',\n",
       " 'census_msa_MSA, Principle City',\n",
       " 'doctor_recc_h1n1',\n",
       " 'doctor_recc_seasonal',\n",
       " 'education_College Graduate',\n",
       " 'employment_occupation_cmhcxjea',\n",
       " 'h1n1_concern',\n",
       " 'h1n1_knowledge',\n",
       " 'health_worker',\n",
       " 'income_poverty_> $75,000',\n",
       " 'opinion_h1n1_risk',\n",
       " 'opinion_h1n1_sick_from_vacc',\n",
       " 'opinion_h1n1_vacc_effective',\n",
       " 'opinion_seas_risk',\n",
       " 'opinion_seas_sick_from_vacc',\n",
       " 'opinion_seas_vacc_effective',\n",
       " 'seasonal_vaccine_0',\n",
       " 'seasonal_vaccine_1'}"
      ]
     },
     "execution_count": 235,
     "metadata": {},
     "output_type": "execute_result"
    }
   ],
   "source": [
    "feature_keep = set(feature_clean)\n",
    "feature_keep"
   ]
  },
  {
   "cell_type": "markdown",
   "metadata": {},
   "source": [
    "## XGBoost"
   ]
  },
  {
   "cell_type": "code",
   "execution_count": 299,
   "metadata": {},
   "outputs": [
    {
     "name": "stdout",
     "output_type": "stream",
     "text": [
      "Training:  88.00%\n",
      "Test set:  85.19%\n",
      "Accuracy_: 85.19\n",
      "roc_auc_score: 75.25\n",
      "              precision    recall  f1-score   support\n",
      "\n",
      "           0       0.88      0.93      0.91      5719\n",
      "           1       0.71      0.57      0.63      1646\n",
      "\n",
      "    accuracy                           0.85      7365\n",
      "   macro avg       0.80      0.75      0.77      7365\n",
      "weighted avg       0.84      0.85      0.85      7365\n",
      "\n"
     ]
    }
   ],
   "source": [
    "model = XGBClassifier()\n",
    "# fit on the training set\n",
    "model.fit(X_train, y_train)\n",
    "# predict on test set\n",
    "yhat = model.predict(X_test)\n",
    "# evaluate predictions\n",
    "print(\"Training: {:6.2f}%\".format(100*model.score(X_train, y_train)))\n",
    "print(\"Test set: {:6.2f}%\".format(100*model.score(X_test, y_test)))\n",
    "accuracy = accuracy_score(y_test, yhat)\n",
    "roc_auc = roc_auc_score(y_test, yhat)\n",
    "print('Accuracy_: %.2f' % (accuracy*100))\n",
    "print('roc_auc_score: %.2f' % (roc_auc*100))\n",
    "print(classification_report(y_test, yhat))"
   ]
  },
  {
   "cell_type": "code",
   "execution_count": 300,
   "metadata": {},
   "outputs": [
    {
     "data": {
      "image/png": "[encoded data removed]",
      "text/plain": [
       "<Figure size 432x288 with 1 Axes>"
      ]
     },
     "metadata": {
      "needs_background": "light"
     },
     "output_type": "display_data"
    }
   ],
   "source": [
    "importance = model_cat.get_feature_importance()\n",
    "plt.bar([x for x in range(len(importance))], importance);"
   ]
  },
  {
   "cell_type": "code",
   "execution_count": 302,
   "metadata": {},
   "outputs": [],
   "source": [
    "indices = np.argsort(importance)[-30:]\n",
    "\n",
    "feature_raw=[]\n",
    "for i in indices:\n",
    "    feature_raw.append(names[i])\n",
    "\n",
    "feature_clean=[]\n",
    "for i in feature_raw:\n",
    "    if \".\" in (i.split(\"_\")[-1]):\n",
    "        feature_clean.append(\"_\".join(i.split(\"_\")[:-1]))\n",
    "    else:\n",
    "        feature_clean.append(i)\n",
    "        \n",
    "zip_list=list(zip(feature_clean, importance[-30:]))\n",
    "\n",
    "imp=defaultdict(float)\n",
    "for i in zip_list:\n",
    "    imp[i[0]]+=i[1]\n",
    "    \n",
    "imp_df=pd.Series(imp).sort_values(ascending = False)\n",
    "imp_df = pd.DataFrame(imp_df)\n",
    "imp_df.reset_index(inplace=True)\n",
    "imp_df.rename(columns = {'index':'features', 0:'importance'}, inplace = True)"
   ]
  },
  {
   "cell_type": "code",
   "execution_count": 303,
   "metadata": {},
   "outputs": [
    {
     "data": {
      "image/png": "[encoded data removed]",
      "text/plain": [
       "<Figure size 864x576 with 1 Axes>"
      ]
     },
     "metadata": {
      "needs_background": "light"
     },
     "output_type": "display_data"
    }
   ],
   "source": [
    "plt.figure(figsize=(12,8))\n",
    "ax = sns.barplot(x='importance', y='features', data=imp_df, palette=sns.color_palette(\"GnBu\", 10))\n",
    "# plt.xticks(rotation='vertical')\n",
    "ax.grid(b=True, which='major', color='#d3d3d3', linewidth=1.0)\n",
    "ax.grid(b=True, which='minor', color='#d3d3d3', linewidth=0.5)\n",
    "plt.show()"
   ]
  },
  {
   "cell_type": "markdown",
   "metadata": {},
   "source": [
    "## Models Pipeline"
   ]
  },
  {
   "cell_type": "code",
   "execution_count": 44,
   "metadata": {},
   "outputs": [],
   "source": [
    "# Load pre-trained/tuned models\n",
    "\n",
    "model_names = [\"lr_model\", \"nb_model\", \"knn_model\", \"svc_model\", \"rf_model\", \"et_model\", \"ada_model\",'cat_model']\n",
    "\n",
    "for model_name in model_names:\n",
    "    with open(f\"models/{model_name}.pickle\", \"rb\") as pfile:\n",
    "        exec(f\"{model_name} = pickle.load(pfile)\")\n",
    "\n",
    "model_vars = [eval(n) for n in model_names]\n",
    "model_list = list(zip(model_names, model_vars))\n"
   ]
  },
  {
   "cell_type": "code",
   "execution_count": 76,
   "metadata": {},
   "outputs": [
    {
     "name": "stdout",
     "output_type": "stream",
     "text": [
      "lr_model score: 0.8537693006357856\n",
      "nb_model score: 0.584014532243415\n",
      "knn_model score: 0.8133514986376021\n",
      "svc_model score: 0.8542234332425068\n",
      "rf_model score: 0.8510445049954587\n",
      "et_model score: 0.849227974568574\n",
      "ada_model score: 0.8583106267029973\n",
      "cat_model score: 0.3815981260891006\n"
     ]
    }
   ],
   "source": [
    "# Quick peek at each model performance\n",
    "\n",
    "for model_name in model_names:\n",
    "    curr_model = eval(model_name)\n",
    "    print(f'{model_name} score: {curr_model.score(X_test, y_test)}')\n"
   ]
  },
  {
   "cell_type": "code",
   "execution_count": 105,
   "metadata": {},
   "outputs": [
    {
     "name": "stdout",
     "output_type": "stream",
     "text": [
      "lr_model roc_auc_score: 0.8104329298091846\n",
      "nb_model roc_auc_score: 0.673957951271286\n",
      "knn_model roc_auc_score: 0.7616977196704781\n",
      "svc_model roc_auc_score: 0.8015587631833269\n",
      "rf_model roc_auc_score: 0.7919610314201165\n",
      "et_model roc_auc_score: 0.7906798014393349\n",
      "ada_model roc_auc_score: 0.8136360047611385\n",
      "cat_model roc_auc_score: 0.8664817444715727\n"
     ]
    }
   ],
   "source": [
    "for model_name in model_names:\n",
    "    curr_model = eval(model_name)\n",
    "    print(f'{model_name} roc_auc_score: {roc_auc_score(y_test, curr_model.predict(X_test))}')\n",
    "#     print(f'{model_name} accuracy: {accuracy_score(X_test.reshape(-1,1), y_test)}')"
   ]
  },
  {
   "cell_type": "code",
   "execution_count": 106,
   "metadata": {},
   "outputs": [
    {
     "name": "stdout",
     "output_type": "stream",
     "text": [
      "lr_model roc_auc_score: 0.9035419712752635\n",
      "nb_model roc_auc_score: 0.8065337732023052\n",
      "knn_model roc_auc_score: 0.844565416184873\n",
      "svc_model roc_auc_score: 0.9032031748918898\n",
      "rf_model roc_auc_score: 0.9009984999015591\n",
      "et_model roc_auc_score: 0.9011868866811047\n",
      "ada_model roc_auc_score: 0.9017300602337995\n"
     ]
    },
    {
     "ename": "AttributeError",
     "evalue": "'CatBoostRegressor' object has no attribute 'predict_proba'",
     "output_type": "error",
     "traceback": [
      "\u001b[0;31m---------------------------------------------------------------------------\u001b[0m",
      "\u001b[0;31mAttributeError\u001b[0m                            Traceback (most recent call last)",
      "\u001b[0;32m<ipython-input-106-763d27b73c2b>\u001b[0m in \u001b[0;36m<module>\u001b[0;34m\u001b[0m\n\u001b[1;32m      1\u001b[0m \u001b[0;32mfor\u001b[0m \u001b[0mmodel_name\u001b[0m \u001b[0;32min\u001b[0m \u001b[0mmodel_names\u001b[0m\u001b[0;34m:\u001b[0m\u001b[0;34m\u001b[0m\u001b[0;34m\u001b[0m\u001b[0m\n\u001b[1;32m      2\u001b[0m     \u001b[0mcurr_model\u001b[0m \u001b[0;34m=\u001b[0m \u001b[0meval\u001b[0m\u001b[0;34m(\u001b[0m\u001b[0mmodel_name\u001b[0m\u001b[0;34m)\u001b[0m\u001b[0;34m\u001b[0m\u001b[0;34m\u001b[0m\u001b[0m\n\u001b[0;32m----> 3\u001b[0;31m     \u001b[0mprint\u001b[0m\u001b[0;34m(\u001b[0m\u001b[0;34mf'{model_name} roc_auc_score: {roc_auc_score(y_test, curr_model.predict_proba(X_test)[:,1])}'\u001b[0m\u001b[0;34m)\u001b[0m\u001b[0;34m\u001b[0m\u001b[0;34m\u001b[0m\u001b[0m\n\u001b[0m\u001b[1;32m      4\u001b[0m \u001b[0;31m#     print(f'{model_name} accuracy: {accuracy_score(X_test.reshape(-1,1), y_test)}')\u001b[0m\u001b[0;34m\u001b[0m\u001b[0;34m\u001b[0m\u001b[0;34m\u001b[0m\u001b[0m\n",
      "\u001b[0;31mAttributeError\u001b[0m: 'CatBoostRegressor' object has no attribute 'predict_proba'"
     ]
    }
   ],
   "source": [
    "for model_name in model_names:\n",
    "    curr_model = eval(model_name)\n",
    "    print(f'{model_name} roc_auc_score: {roc_auc_score(y_test, curr_model.predict_proba(X_test)[:,1])}')"
   ]
  },
  {
   "cell_type": "code",
   "execution_count": 50,
   "metadata": {},
   "outputs": [],
   "source": [
    "pal = dict(enumerate(sns.color_palette(\"GnBu\", 2)))\n",
    "X_train2 = pca.fit_transform(X_train)"
   ]
  },
  {
   "cell_type": "markdown",
   "metadata": {},
   "source": [
    "## Logistic Regression on Selected Features"
   ]
  },
  {
   "cell_type": "code",
   "execution_count": 127,
   "metadata": {},
   "outputs": [],
   "source": [
    "select = ['h1n1_vaccine', 'seasonal_vaccine',\n",
    "          'doctor_recc_h1n1',\n",
    " 'doctor_recc_seasonal',\n",
    " 'h1n1_concern',\n",
    " 'h1n1_knowledge',\n",
    " 'health_worker',\n",
    " 'opinion_h1n1_risk',\n",
    " 'opinion_h1n1_sick_from_vacc',\n",
    " 'opinion_h1n1_vacc_effective',\n",
    " 'opinion_seas_risk',\n",
    " 'opinion_seas_sick_from_vacc',\n",
    " 'opinion_seas_vacc_effective']"
   ]
  },
  {
   "cell_type": "code",
   "execution_count": 128,
   "metadata": {},
   "outputs": [],
   "source": [
    "df_sel=df[select]"
   ]
  },
  {
   "cell_type": "code",
   "execution_count": 129,
   "metadata": {},
   "outputs": [
    {
     "data": {
      "text/plain": [
       "(26707, 13)"
      ]
     },
     "execution_count": 129,
     "metadata": {},
     "output_type": "execute_result"
    }
   ],
   "source": [
    "df_sel.shape"
   ]
  },
  {
   "cell_type": "code",
   "execution_count": 130,
   "metadata": {},
   "outputs": [
    {
     "data": {
      "text/html": [
       "<div>\n",
       "<style scoped>\n",
       "    .dataframe tbody tr th:only-of-type {\n",
       "        vertical-align: middle;\n",
       "    }\n",
       "\n",
       "    .dataframe tbody tr th {\n",
       "        vertical-align: top;\n",
       "    }\n",
       "\n",
       "    .dataframe thead th {\n",
       "        text-align: right;\n",
       "    }\n",
       "</style>\n",
       "<table border=\"1\" class=\"dataframe\">\n",
       "  <thead>\n",
       "    <tr style=\"text-align: right;\">\n",
       "      <th></th>\n",
       "      <th>h1n1_vaccine</th>\n",
       "      <th>seasonal_vaccine</th>\n",
       "      <th>doctor_recc_h1n1</th>\n",
       "      <th>doctor_recc_seasonal</th>\n",
       "      <th>h1n1_concern</th>\n",
       "      <th>h1n1_knowledge</th>\n",
       "      <th>health_worker</th>\n",
       "      <th>opinion_h1n1_risk</th>\n",
       "      <th>opinion_h1n1_sick_from_vacc</th>\n",
       "      <th>opinion_h1n1_vacc_effective</th>\n",
       "      <th>opinion_seas_risk</th>\n",
       "      <th>opinion_seas_sick_from_vacc</th>\n",
       "      <th>opinion_seas_vacc_effective</th>\n",
       "    </tr>\n",
       "  </thead>\n",
       "  <tbody>\n",
       "    <tr>\n",
       "      <th>count</th>\n",
       "      <td>26707.000000</td>\n",
       "      <td>26707.000000</td>\n",
       "      <td>24547.000000</td>\n",
       "      <td>24547.000000</td>\n",
       "      <td>26615.000000</td>\n",
       "      <td>26591.000000</td>\n",
       "      <td>25903.000000</td>\n",
       "      <td>26319.000000</td>\n",
       "      <td>26312.000000</td>\n",
       "      <td>26316.000000</td>\n",
       "      <td>26193.000000</td>\n",
       "      <td>26170.000000</td>\n",
       "      <td>26245.000000</td>\n",
       "    </tr>\n",
       "    <tr>\n",
       "      <th>mean</th>\n",
       "      <td>0.212454</td>\n",
       "      <td>0.465608</td>\n",
       "      <td>0.220312</td>\n",
       "      <td>0.329735</td>\n",
       "      <td>1.618486</td>\n",
       "      <td>1.262532</td>\n",
       "      <td>0.111918</td>\n",
       "      <td>2.342566</td>\n",
       "      <td>2.357670</td>\n",
       "      <td>3.850623</td>\n",
       "      <td>2.719162</td>\n",
       "      <td>2.118112</td>\n",
       "      <td>4.025986</td>\n",
       "    </tr>\n",
       "    <tr>\n",
       "      <th>std</th>\n",
       "      <td>0.409052</td>\n",
       "      <td>0.498825</td>\n",
       "      <td>0.414466</td>\n",
       "      <td>0.470126</td>\n",
       "      <td>0.910311</td>\n",
       "      <td>0.618149</td>\n",
       "      <td>0.315271</td>\n",
       "      <td>1.285539</td>\n",
       "      <td>1.362766</td>\n",
       "      <td>1.007436</td>\n",
       "      <td>1.385055</td>\n",
       "      <td>1.332950</td>\n",
       "      <td>1.086565</td>\n",
       "    </tr>\n",
       "    <tr>\n",
       "      <th>min</th>\n",
       "      <td>0.000000</td>\n",
       "      <td>0.000000</td>\n",
       "      <td>0.000000</td>\n",
       "      <td>0.000000</td>\n",
       "      <td>0.000000</td>\n",
       "      <td>0.000000</td>\n",
       "      <td>0.000000</td>\n",
       "      <td>1.000000</td>\n",
       "      <td>1.000000</td>\n",
       "      <td>1.000000</td>\n",
       "      <td>1.000000</td>\n",
       "      <td>1.000000</td>\n",
       "      <td>1.000000</td>\n",
       "    </tr>\n",
       "    <tr>\n",
       "      <th>25%</th>\n",
       "      <td>0.000000</td>\n",
       "      <td>0.000000</td>\n",
       "      <td>0.000000</td>\n",
       "      <td>0.000000</td>\n",
       "      <td>1.000000</td>\n",
       "      <td>1.000000</td>\n",
       "      <td>0.000000</td>\n",
       "      <td>1.000000</td>\n",
       "      <td>1.000000</td>\n",
       "      <td>3.000000</td>\n",
       "      <td>2.000000</td>\n",
       "      <td>1.000000</td>\n",
       "      <td>4.000000</td>\n",
       "    </tr>\n",
       "    <tr>\n",
       "      <th>50%</th>\n",
       "      <td>0.000000</td>\n",
       "      <td>0.000000</td>\n",
       "      <td>0.000000</td>\n",
       "      <td>0.000000</td>\n",
       "      <td>2.000000</td>\n",
       "      <td>1.000000</td>\n",
       "      <td>0.000000</td>\n",
       "      <td>2.000000</td>\n",
       "      <td>2.000000</td>\n",
       "      <td>4.000000</td>\n",
       "      <td>2.000000</td>\n",
       "      <td>2.000000</td>\n",
       "      <td>4.000000</td>\n",
       "    </tr>\n",
       "    <tr>\n",
       "      <th>75%</th>\n",
       "      <td>0.000000</td>\n",
       "      <td>1.000000</td>\n",
       "      <td>0.000000</td>\n",
       "      <td>1.000000</td>\n",
       "      <td>2.000000</td>\n",
       "      <td>2.000000</td>\n",
       "      <td>0.000000</td>\n",
       "      <td>4.000000</td>\n",
       "      <td>4.000000</td>\n",
       "      <td>5.000000</td>\n",
       "      <td>4.000000</td>\n",
       "      <td>4.000000</td>\n",
       "      <td>5.000000</td>\n",
       "    </tr>\n",
       "    <tr>\n",
       "      <th>max</th>\n",
       "      <td>1.000000</td>\n",
       "      <td>1.000000</td>\n",
       "      <td>1.000000</td>\n",
       "      <td>1.000000</td>\n",
       "      <td>3.000000</td>\n",
       "      <td>2.000000</td>\n",
       "      <td>1.000000</td>\n",
       "      <td>5.000000</td>\n",
       "      <td>5.000000</td>\n",
       "      <td>5.000000</td>\n",
       "      <td>5.000000</td>\n",
       "      <td>5.000000</td>\n",
       "      <td>5.000000</td>\n",
       "    </tr>\n",
       "  </tbody>\n",
       "</table>\n",
       "</div>"
      ],
      "text/plain": [
       "       h1n1_vaccine  seasonal_vaccine  doctor_recc_h1n1  doctor_recc_seasonal  \\\n",
       "count  26707.000000      26707.000000      24547.000000          24547.000000   \n",
       "mean       0.212454          0.465608          0.220312              0.329735   \n",
       "std        0.409052          0.498825          0.414466              0.470126   \n",
       "min        0.000000          0.000000          0.000000              0.000000   \n",
       "25%        0.000000          0.000000          0.000000              0.000000   \n",
       "50%        0.000000          0.000000          0.000000              0.000000   \n",
       "75%        0.000000          1.000000          0.000000              1.000000   \n",
       "max        1.000000          1.000000          1.000000              1.000000   \n",
       "\n",
       "       h1n1_concern  h1n1_knowledge  health_worker  opinion_h1n1_risk  \\\n",
       "count  26615.000000    26591.000000   25903.000000       26319.000000   \n",
       "mean       1.618486        1.262532       0.111918           2.342566   \n",
       "std        0.910311        0.618149       0.315271           1.285539   \n",
       "min        0.000000        0.000000       0.000000           1.000000   \n",
       "25%        1.000000        1.000000       0.000000           1.000000   \n",
       "50%        2.000000        1.000000       0.000000           2.000000   \n",
       "75%        2.000000        2.000000       0.000000           4.000000   \n",
       "max        3.000000        2.000000       1.000000           5.000000   \n",
       "\n",
       "       opinion_h1n1_sick_from_vacc  opinion_h1n1_vacc_effective  \\\n",
       "count                 26312.000000                 26316.000000   \n",
       "mean                      2.357670                     3.850623   \n",
       "std                       1.362766                     1.007436   \n",
       "min                       1.000000                     1.000000   \n",
       "25%                       1.000000                     3.000000   \n",
       "50%                       2.000000                     4.000000   \n",
       "75%                       4.000000                     5.000000   \n",
       "max                       5.000000                     5.000000   \n",
       "\n",
       "       opinion_seas_risk  opinion_seas_sick_from_vacc  \\\n",
       "count       26193.000000                 26170.000000   \n",
       "mean            2.719162                     2.118112   \n",
       "std             1.385055                     1.332950   \n",
       "min             1.000000                     1.000000   \n",
       "25%             2.000000                     1.000000   \n",
       "50%             2.000000                     2.000000   \n",
       "75%             4.000000                     4.000000   \n",
       "max             5.000000                     5.000000   \n",
       "\n",
       "       opinion_seas_vacc_effective  \n",
       "count                 26245.000000  \n",
       "mean                      4.025986  \n",
       "std                       1.086565  \n",
       "min                       1.000000  \n",
       "25%                       4.000000  \n",
       "50%                       4.000000  \n",
       "75%                       5.000000  \n",
       "max                       5.000000  "
      ]
     },
     "execution_count": 130,
     "metadata": {},
     "output_type": "execute_result"
    }
   ],
   "source": [
    "df_sel.describe()"
   ]
  },
  {
   "cell_type": "code",
   "execution_count": 131,
   "metadata": {},
   "outputs": [
    {
     "data": {
      "text/plain": [
       "h1n1_vaccine                      0\n",
       "seasonal_vaccine                  0\n",
       "doctor_recc_h1n1               2160\n",
       "doctor_recc_seasonal           2160\n",
       "h1n1_concern                     92\n",
       "h1n1_knowledge                  116\n",
       "health_worker                   804\n",
       "opinion_h1n1_risk               388\n",
       "opinion_h1n1_sick_from_vacc     395\n",
       "opinion_h1n1_vacc_effective     391\n",
       "opinion_seas_risk               514\n",
       "opinion_seas_sick_from_vacc     537\n",
       "opinion_seas_vacc_effective     462\n",
       "dtype: int64"
      ]
     },
     "execution_count": 131,
     "metadata": {},
     "output_type": "execute_result"
    }
   ],
   "source": [
    "df_sel.isna().sum()"
   ]
  },
  {
   "cell_type": "code",
   "execution_count": 132,
   "metadata": {},
   "outputs": [],
   "source": [
    "df_lr=df_sel.dropna(subset=[\"doctor_recc_h1n1\"])"
   ]
  },
  {
   "cell_type": "code",
   "execution_count": 133,
   "metadata": {},
   "outputs": [
    {
     "data": {
      "text/plain": [
       "h1n1_vaccine                     0\n",
       "seasonal_vaccine                 0\n",
       "doctor_recc_h1n1                 0\n",
       "doctor_recc_seasonal             0\n",
       "h1n1_concern                    73\n",
       "h1n1_knowledge                 104\n",
       "health_worker                  619\n",
       "opinion_h1n1_risk              224\n",
       "opinion_h1n1_sick_from_vacc    236\n",
       "opinion_h1n1_vacc_effective    230\n",
       "opinion_seas_risk              345\n",
       "opinion_seas_sick_from_vacc    370\n",
       "opinion_seas_vacc_effective    297\n",
       "dtype: int64"
      ]
     },
     "execution_count": 133,
     "metadata": {},
     "output_type": "execute_result"
    }
   ],
   "source": [
    "df_lr.isna().sum()"
   ]
  },
  {
   "cell_type": "code",
   "execution_count": 134,
   "metadata": {},
   "outputs": [
    {
     "data": {
      "text/plain": [
       "h1n1_vaccine                     int64\n",
       "seasonal_vaccine                 int64\n",
       "doctor_recc_h1n1               float64\n",
       "doctor_recc_seasonal           float64\n",
       "h1n1_concern                   float64\n",
       "h1n1_knowledge                 float64\n",
       "health_worker                  float64\n",
       "opinion_h1n1_risk              float64\n",
       "opinion_h1n1_sick_from_vacc    float64\n",
       "opinion_h1n1_vacc_effective    float64\n",
       "opinion_seas_risk              float64\n",
       "opinion_seas_sick_from_vacc    float64\n",
       "opinion_seas_vacc_effective    float64\n",
       "dtype: object"
      ]
     },
     "execution_count": 134,
     "metadata": {},
     "output_type": "execute_result"
    }
   ],
   "source": [
    "df_lr.dtypes"
   ]
  },
  {
   "cell_type": "code",
   "execution_count": 138,
   "metadata": {},
   "outputs": [],
   "source": [
    "y=df_lr.iloc[:,0]"
   ]
  },
  {
   "cell_type": "code",
   "execution_count": 140,
   "metadata": {},
   "outputs": [
    {
     "data": {
      "text/plain": [
       "0    19058\n",
       "1     5489\n",
       "Name: h1n1_vaccine, dtype: int64"
      ]
     },
     "execution_count": 140,
     "metadata": {},
     "output_type": "execute_result"
    }
   ],
   "source": [
    "y.value_counts()"
   ]
  },
  {
   "cell_type": "markdown",
   "metadata": {},
   "source": [
    "### MICE Imputation"
   ]
  },
  {
   "cell_type": "code",
   "execution_count": 122,
   "metadata": {},
   "outputs": [],
   "source": [
    "from fancyimpute import IterativeImputer "
   ]
  },
  {
   "cell_type": "code",
   "execution_count": 145,
   "metadata": {},
   "outputs": [],
   "source": [
    "mice_imputer = IterativeImputer() \n",
    "X = mice_imputer.fit_transform(df_lr.iloc[:,1:]) "
   ]
  },
  {
   "cell_type": "code",
   "execution_count": 148,
   "metadata": {},
   "outputs": [],
   "source": [
    "X_train, X_test, y_train, y_test = train_test_split(X, y, test_size=0.30, random_state=4444)\n"
   ]
  },
  {
   "cell_type": "markdown",
   "metadata": {},
   "source": [
    "### Classification Report and Confusion Matrix"
   ]
  },
  {
   "cell_type": "code",
   "execution_count": 227,
   "metadata": {},
   "outputs": [
    {
     "data": {
      "text/html": [
       "<div>\n",
       "<style scoped>\n",
       "    .dataframe tbody tr th:only-of-type {\n",
       "        vertical-align: middle;\n",
       "    }\n",
       "\n",
       "    .dataframe tbody tr th {\n",
       "        vertical-align: top;\n",
       "    }\n",
       "\n",
       "    .dataframe thead th {\n",
       "        text-align: right;\n",
       "    }\n",
       "</style>\n",
       "<table border=\"1\" class=\"dataframe\">\n",
       "  <thead>\n",
       "    <tr style=\"text-align: right;\">\n",
       "      <th></th>\n",
       "      <th>h1n1_vaccine</th>\n",
       "      <th>seasonal_vaccine</th>\n",
       "      <th>doctor_recc_h1n1</th>\n",
       "      <th>doctor_recc_seasonal</th>\n",
       "      <th>h1n1_concern</th>\n",
       "      <th>h1n1_knowledge</th>\n",
       "      <th>health_worker</th>\n",
       "      <th>opinion_h1n1_risk</th>\n",
       "      <th>opinion_h1n1_sick_from_vacc</th>\n",
       "      <th>opinion_h1n1_vacc_effective</th>\n",
       "      <th>opinion_seas_risk</th>\n",
       "      <th>opinion_seas_sick_from_vacc</th>\n",
       "      <th>opinion_seas_vacc_effective</th>\n",
       "    </tr>\n",
       "  </thead>\n",
       "  <tbody>\n",
       "    <tr>\n",
       "      <th>0</th>\n",
       "      <td>0</td>\n",
       "      <td>0</td>\n",
       "      <td>0.0</td>\n",
       "      <td>0.0</td>\n",
       "      <td>1.0</td>\n",
       "      <td>0.0</td>\n",
       "      <td>0.0</td>\n",
       "      <td>1.0</td>\n",
       "      <td>2.0</td>\n",
       "      <td>3.0</td>\n",
       "      <td>1.0</td>\n",
       "      <td>2.0</td>\n",
       "      <td>2.0</td>\n",
       "    </tr>\n",
       "    <tr>\n",
       "      <th>1</th>\n",
       "      <td>0</td>\n",
       "      <td>1</td>\n",
       "      <td>0.0</td>\n",
       "      <td>0.0</td>\n",
       "      <td>3.0</td>\n",
       "      <td>2.0</td>\n",
       "      <td>0.0</td>\n",
       "      <td>4.0</td>\n",
       "      <td>4.0</td>\n",
       "      <td>5.0</td>\n",
       "      <td>2.0</td>\n",
       "      <td>4.0</td>\n",
       "      <td>4.0</td>\n",
       "    </tr>\n",
       "    <tr>\n",
       "      <th>3</th>\n",
       "      <td>0</td>\n",
       "      <td>1</td>\n",
       "      <td>0.0</td>\n",
       "      <td>1.0</td>\n",
       "      <td>1.0</td>\n",
       "      <td>1.0</td>\n",
       "      <td>0.0</td>\n",
       "      <td>3.0</td>\n",
       "      <td>5.0</td>\n",
       "      <td>3.0</td>\n",
       "      <td>4.0</td>\n",
       "      <td>1.0</td>\n",
       "      <td>5.0</td>\n",
       "    </tr>\n",
       "    <tr>\n",
       "      <th>4</th>\n",
       "      <td>0</td>\n",
       "      <td>0</td>\n",
       "      <td>0.0</td>\n",
       "      <td>0.0</td>\n",
       "      <td>2.0</td>\n",
       "      <td>1.0</td>\n",
       "      <td>0.0</td>\n",
       "      <td>3.0</td>\n",
       "      <td>2.0</td>\n",
       "      <td>3.0</td>\n",
       "      <td>1.0</td>\n",
       "      <td>4.0</td>\n",
       "      <td>3.0</td>\n",
       "    </tr>\n",
       "    <tr>\n",
       "      <th>5</th>\n",
       "      <td>0</td>\n",
       "      <td>0</td>\n",
       "      <td>0.0</td>\n",
       "      <td>1.0</td>\n",
       "      <td>3.0</td>\n",
       "      <td>1.0</td>\n",
       "      <td>0.0</td>\n",
       "      <td>2.0</td>\n",
       "      <td>1.0</td>\n",
       "      <td>5.0</td>\n",
       "      <td>4.0</td>\n",
       "      <td>4.0</td>\n",
       "      <td>5.0</td>\n",
       "    </tr>\n",
       "    <tr>\n",
       "      <th>...</th>\n",
       "      <td>...</td>\n",
       "      <td>...</td>\n",
       "      <td>...</td>\n",
       "      <td>...</td>\n",
       "      <td>...</td>\n",
       "      <td>...</td>\n",
       "      <td>...</td>\n",
       "      <td>...</td>\n",
       "      <td>...</td>\n",
       "      <td>...</td>\n",
       "      <td>...</td>\n",
       "      <td>...</td>\n",
       "      <td>...</td>\n",
       "    </tr>\n",
       "    <tr>\n",
       "      <th>26702</th>\n",
       "      <td>0</td>\n",
       "      <td>0</td>\n",
       "      <td>0.0</td>\n",
       "      <td>0.0</td>\n",
       "      <td>2.0</td>\n",
       "      <td>0.0</td>\n",
       "      <td>0.0</td>\n",
       "      <td>1.0</td>\n",
       "      <td>1.0</td>\n",
       "      <td>3.0</td>\n",
       "      <td>2.0</td>\n",
       "      <td>2.0</td>\n",
       "      <td>5.0</td>\n",
       "    </tr>\n",
       "    <tr>\n",
       "      <th>26703</th>\n",
       "      <td>0</td>\n",
       "      <td>0</td>\n",
       "      <td>1.0</td>\n",
       "      <td>1.0</td>\n",
       "      <td>1.0</td>\n",
       "      <td>2.0</td>\n",
       "      <td>1.0</td>\n",
       "      <td>2.0</td>\n",
       "      <td>2.0</td>\n",
       "      <td>4.0</td>\n",
       "      <td>1.0</td>\n",
       "      <td>1.0</td>\n",
       "      <td>5.0</td>\n",
       "    </tr>\n",
       "    <tr>\n",
       "      <th>26704</th>\n",
       "      <td>0</td>\n",
       "      <td>1</td>\n",
       "      <td>0.0</td>\n",
       "      <td>0.0</td>\n",
       "      <td>2.0</td>\n",
       "      <td>2.0</td>\n",
       "      <td>0.0</td>\n",
       "      <td>4.0</td>\n",
       "      <td>2.0</td>\n",
       "      <td>4.0</td>\n",
       "      <td>4.0</td>\n",
       "      <td>2.0</td>\n",
       "      <td>5.0</td>\n",
       "    </tr>\n",
       "    <tr>\n",
       "      <th>26705</th>\n",
       "      <td>0</td>\n",
       "      <td>0</td>\n",
       "      <td>0.0</td>\n",
       "      <td>0.0</td>\n",
       "      <td>1.0</td>\n",
       "      <td>1.0</td>\n",
       "      <td>0.0</td>\n",
       "      <td>1.0</td>\n",
       "      <td>2.0</td>\n",
       "      <td>3.0</td>\n",
       "      <td>1.0</td>\n",
       "      <td>2.0</td>\n",
       "      <td>2.0</td>\n",
       "    </tr>\n",
       "    <tr>\n",
       "      <th>26706</th>\n",
       "      <td>0</td>\n",
       "      <td>0</td>\n",
       "      <td>0.0</td>\n",
       "      <td>0.0</td>\n",
       "      <td>0.0</td>\n",
       "      <td>0.0</td>\n",
       "      <td>0.0</td>\n",
       "      <td>1.0</td>\n",
       "      <td>1.0</td>\n",
       "      <td>5.0</td>\n",
       "      <td>1.0</td>\n",
       "      <td>1.0</td>\n",
       "      <td>5.0</td>\n",
       "    </tr>\n",
       "  </tbody>\n",
       "</table>\n",
       "<p>24547 rows × 13 columns</p>\n",
       "</div>"
      ],
      "text/plain": [
       "       h1n1_vaccine  seasonal_vaccine  doctor_recc_h1n1  doctor_recc_seasonal  \\\n",
       "0                 0                 0               0.0                   0.0   \n",
       "1                 0                 1               0.0                   0.0   \n",
       "3                 0                 1               0.0                   1.0   \n",
       "4                 0                 0               0.0                   0.0   \n",
       "5                 0                 0               0.0                   1.0   \n",
       "...             ...               ...               ...                   ...   \n",
       "26702             0                 0               0.0                   0.0   \n",
       "26703             0                 0               1.0                   1.0   \n",
       "26704             0                 1               0.0                   0.0   \n",
       "26705             0                 0               0.0                   0.0   \n",
       "26706             0                 0               0.0                   0.0   \n",
       "\n",
       "       h1n1_concern  h1n1_knowledge  health_worker  opinion_h1n1_risk  \\\n",
       "0               1.0             0.0            0.0                1.0   \n",
       "1               3.0             2.0            0.0                4.0   \n",
       "3               1.0             1.0            0.0                3.0   \n",
       "4               2.0             1.0            0.0                3.0   \n",
       "5               3.0             1.0            0.0                2.0   \n",
       "...             ...             ...            ...                ...   \n",
       "26702           2.0             0.0            0.0                1.0   \n",
       "26703           1.0             2.0            1.0                2.0   \n",
       "26704           2.0             2.0            0.0                4.0   \n",
       "26705           1.0             1.0            0.0                1.0   \n",
       "26706           0.0             0.0            0.0                1.0   \n",
       "\n",
       "       opinion_h1n1_sick_from_vacc  opinion_h1n1_vacc_effective  \\\n",
       "0                              2.0                          3.0   \n",
       "1                              4.0                          5.0   \n",
       "3                              5.0                          3.0   \n",
       "4                              2.0                          3.0   \n",
       "5                              1.0                          5.0   \n",
       "...                            ...                          ...   \n",
       "26702                          1.0                          3.0   \n",
       "26703                          2.0                          4.0   \n",
       "26704                          2.0                          4.0   \n",
       "26705                          2.0                          3.0   \n",
       "26706                          1.0                          5.0   \n",
       "\n",
       "       opinion_seas_risk  opinion_seas_sick_from_vacc  \\\n",
       "0                    1.0                          2.0   \n",
       "1                    2.0                          4.0   \n",
       "3                    4.0                          1.0   \n",
       "4                    1.0                          4.0   \n",
       "5                    4.0                          4.0   \n",
       "...                  ...                          ...   \n",
       "26702                2.0                          2.0   \n",
       "26703                1.0                          1.0   \n",
       "26704                4.0                          2.0   \n",
       "26705                1.0                          2.0   \n",
       "26706                1.0                          1.0   \n",
       "\n",
       "       opinion_seas_vacc_effective  \n",
       "0                              2.0  \n",
       "1                              4.0  \n",
       "3                              5.0  \n",
       "4                              3.0  \n",
       "5                              5.0  \n",
       "...                            ...  \n",
       "26702                          5.0  \n",
       "26703                          5.0  \n",
       "26704                          5.0  \n",
       "26705                          2.0  \n",
       "26706                          5.0  \n",
       "\n",
       "[24547 rows x 13 columns]"
      ]
     },
     "execution_count": 227,
     "metadata": {},
     "output_type": "execute_result"
    }
   ],
   "source": [
    "df_lr"
   ]
  },
  {
   "cell_type": "code",
   "execution_count": 151,
   "metadata": {},
   "outputs": [
    {
     "name": "stdout",
     "output_type": "stream",
     "text": [
      "Training:  84.43%\n",
      "Test set:  85.25%\n",
      "Accuracy_: 85.25\n",
      "roc_auc_score: 88.11\n",
      "              precision    recall  f1-score   support\n",
      "\n",
      "           0       0.88      0.94      0.91      5719\n",
      "           1       0.73      0.55      0.62      1646\n",
      "\n",
      "    accuracy                           0.85      7365\n",
      "   macro avg       0.80      0.74      0.77      7365\n",
      "weighted avg       0.84      0.85      0.84      7365\n",
      "\n"
     ]
    }
   ],
   "source": [
    "lr_model = LogisticRegression(solver=\"lbfgs\")\n",
    "lr_model.fit(X_train, y_train)\n",
    "# predict on test set\n",
    "yhat = lr_model.predict(X_test)\n",
    "# evaluate predictions\n",
    "print(\"Training: {:6.2f}%\".format(100*lr_model.score(X_train, y_train)))\n",
    "print(\"Test set: {:6.2f}%\".format(100*lr_model.score(X_test, y_test)))\n",
    "accuracy = accuracy_score(y_test, yhat)\n",
    "roc_auc = roc_auc_score(y_test, lr_model.predict_proba(X_test)[:,1])\n",
    "print('Accuracy_: %.2f' % (accuracy*100))\n",
    "print('roc_auc_score: %.2f' % (roc_auc*100))\n",
    "print(classification_report(y_test, yhat))"
   ]
  },
  {
   "cell_type": "code",
   "execution_count": 354,
   "metadata": {},
   "outputs": [],
   "source": [
    "def make_confusion_matrix(model, threshold=0.6):\n",
    "    # Predict class 1 if probability of being in class 1 is greater than threshold\n",
    "    # (model.predict(X_test) does this automatically with a threshold of 0.5)\n",
    "   \n",
    "    y_predict = (model.predict_proba(X_test)[:, 1] >= threshold)\n",
    "    confusion = confusion_matrix(y_test, y_predict)\n",
    "    plt.figure(dpi=80)\n",
    "    sns.heatmap(confusion, cmap=plt.cm.Reds, annot=True, square=True, fmt='d',\n",
    "           xticklabels=['Take Vaccine', 'Not Take Vaccine'],\n",
    "           yticklabels=['Take Vaccine', 'Not Take Vaccine']);\n",
    "    plt.xlabel('prediction')\n",
    "    plt.ylabel('actual');\n"
   ]
  },
  {
   "cell_type": "code",
   "execution_count": 201,
   "metadata": {},
   "outputs": [
    {
     "data": {
      "image/png": "[encoded data removed]",
      "text/plain": [
       "<Figure size 480x320 with 2 Axes>"
      ]
     },
     "metadata": {
      "needs_background": "light"
     },
     "output_type": "display_data"
    }
   ],
   "source": [
    "make_confusion_matrix(lr_model);"
   ]
  },
  {
   "cell_type": "code",
   "execution_count": 192,
   "metadata": {},
   "outputs": [
    {
     "data": {
      "text/plain": [
       "array([0.13029188, 0.26684702, 0.09858978, ..., 0.49397668, 0.22401546,\n",
       "       0.0533654 ])"
      ]
     },
     "execution_count": 192,
     "metadata": {},
     "output_type": "execute_result"
    }
   ],
   "source": [
    "lr_model.predict_proba(X_test)[:,1]"
   ]
  },
  {
   "cell_type": "code",
   "execution_count": 305,
   "metadata": {},
   "outputs": [
    {
     "data": {
      "text/plain": [
       "array([[ 1.9715433 ,  2.16502768, -0.96553423, -0.14485422,  0.06348789,\n",
       "         0.54119514,  0.38042418, -0.0089533 ,  0.65047906, -0.0300498 ,\n",
       "        -0.03827215, -0.08272063]])"
      ]
     },
     "execution_count": 305,
     "metadata": {},
     "output_type": "execute_result"
    }
   ],
   "source": [
    "lr_model.coef_"
   ]
  },
  {
   "cell_type": "code",
   "execution_count": 228,
   "metadata": {},
   "outputs": [
    {
     "data": {
      "text/plain": [
       "['seasonal_vaccine',\n",
       " 'doctor_recc_h1n1',\n",
       " 'doctor_recc_seasonal',\n",
       " 'h1n1_concern',\n",
       " 'h1n1_knowledge',\n",
       " 'health_worker',\n",
       " 'opinion_h1n1_risk',\n",
       " 'opinion_h1n1_sick_from_vacc',\n",
       " 'opinion_h1n1_vacc_effective',\n",
       " 'opinion_seas_risk',\n",
       " 'opinion_seas_sick_from_vacc',\n",
       " 'opinion_seas_vacc_effective']"
      ]
     },
     "execution_count": 228,
     "metadata": {},
     "output_type": "execute_result"
    }
   ],
   "source": [
    "select[1:]"
   ]
  },
  {
   "cell_type": "code",
   "execution_count": 229,
   "metadata": {},
   "outputs": [
    {
     "data": {
      "text/plain": [
       "[('seasonal_vaccine', 1.994603648426964),\n",
       " ('doctor_recc_h1n1', 2.221215880625276),\n",
       " ('doctor_recc_seasonal', -1.0529970588122486),\n",
       " ('h1n1_concern', -0.08436955386268696),\n",
       " ('h1n1_knowledge', 0.039013202286953534),\n",
       " ('health_worker', 0.49809820062037524),\n",
       " ('opinion_h1n1_risk', 0.36705834085549743),\n",
       " ('opinion_h1n1_sick_from_vacc', -0.005149009745327946),\n",
       " ('opinion_h1n1_vacc_effective', 0.6255080949515864),\n",
       " ('opinion_seas_risk', -0.008981373646964863),\n",
       " ('opinion_seas_sick_from_vacc', -0.05182779461435615),\n",
       " ('opinion_seas_vacc_effective', -0.09867030268637103)]"
      ]
     },
     "execution_count": 229,
     "metadata": {},
     "output_type": "execute_result"
    }
   ],
   "source": [
    "list(zip(select[1:], lr_model.coef_[0]))"
   ]
  },
  {
   "cell_type": "code",
   "execution_count": 272,
   "metadata": {},
   "outputs": [],
   "source": [
    "feature_coef=pd.DataFrame(zip(select[1:], lr_model.coef_[0]))"
   ]
  },
  {
   "cell_type": "code",
   "execution_count": 273,
   "metadata": {},
   "outputs": [],
   "source": [
    "feature_coef.columns = [\"Feature\",\"Coefficient\"]"
   ]
  },
  {
   "cell_type": "code",
   "execution_count": 341,
   "metadata": {},
   "outputs": [],
   "source": [
    "feature_coef.to_csv(\"feature_coef.csv\", index=False)\n"
   ]
  },
  {
   "cell_type": "code",
   "execution_count": 275,
   "metadata": {},
   "outputs": [],
   "source": [
    "feature_coef.to_csv(\"Data/lr_features.csv\", index= False)"
   ]
  },
  {
   "cell_type": "code",
   "execution_count": null,
   "metadata": {},
   "outputs": [],
   "source": []
  },
  {
   "cell_type": "code",
   "execution_count": 202,
   "metadata": {},
   "outputs": [
    {
     "name": "stdout",
     "output_type": "stream",
     "text": [
      "              precision    recall  f1-score   support\n",
      "\n",
      "           0       0.94      0.79      0.86      5719\n",
      "           1       0.53      0.83      0.65      1646\n",
      "\n",
      "    accuracy                           0.80      7365\n",
      "   macro avg       0.74      0.81      0.75      7365\n",
      "weighted avg       0.85      0.80      0.81      7365\n",
      "\n"
     ]
    }
   ],
   "source": [
    "final_model = LogisticRegression(max_iter=1000, solver=\"saga\")\n",
    "\n",
    "X_oversampled_train, y_oversampled_train = RandomOverSampler(random_state=0).fit_sample(X_train, y_train)\n",
    "\n",
    "final_model.fit(X_oversampled_train, np.array(y_oversampled_train).ravel())\n",
    "y_pred = final_model.predict(X_test)\n",
    "\n",
    "print(classification_report(y_test, y_pred))"
   ]
  },
  {
   "cell_type": "code",
   "execution_count": 203,
   "metadata": {},
   "outputs": [
    {
     "data": {
      "text/plain": [
       "array([[ 1.99453922,  2.22135133, -1.05302193, -0.08449893,  0.03924903,\n",
       "         0.49816263,  0.36720353, -0.00513484,  0.62556286, -0.00902012,\n",
       "        -0.05172694, -0.0984812 ]])"
      ]
     },
     "execution_count": 203,
     "metadata": {},
     "output_type": "execute_result"
    }
   ],
   "source": [
    "final_model.coef_"
   ]
  },
  {
   "cell_type": "code",
   "execution_count": 205,
   "metadata": {},
   "outputs": [
    {
     "name": "stdout",
     "output_type": "stream",
     "text": [
      "Training:  79.16%\n",
      "Test set: 100.00%\n"
     ]
    }
   ],
   "source": [
    "print(\"Training: {:6.2f}%\".format(100*final_model.score(X_oversampled_train, y_oversampled_train)))\n",
    "print(\"Test set: {:6.2f}%\".format(100*final_model.score(X_test, y_pred)))"
   ]
  },
  {
   "cell_type": "markdown",
   "metadata": {},
   "source": [
    "## Predict H1N1 Vaccine with 12 features"
   ]
  },
  {
   "cell_type": "code",
   "execution_count": 242,
   "metadata": {},
   "outputs": [],
   "source": [
    "X_try = pd.DataFrame({'seasonal_vaccine': 1,\n",
    "                      'doctor_recc_h1n1': 1,\n",
    " 'doctor_recc_seasonal': 1,\n",
    " 'h1n1_concern': 3,\n",
    " 'h1n1_knowledge': 2,\n",
    " 'health_worker': 0,\n",
    " 'opinion_h1n1_risk': 5,\n",
    " 'opinion_h1n1_sick_from_vacc': 4,\n",
    " 'opinion_h1n1_vacc_effective': 5,\n",
    " 'opinion_seas_risk': 1,\n",
    " 'opinion_seas_vacc_effective': 3,\n",
    " 'opinion_seas_sick_from_vacc': 1}, index = range(1))"
   ]
  },
  {
   "cell_type": "code",
   "execution_count": 240,
   "metadata": {},
   "outputs": [
    {
     "data": {
      "text/plain": [
       "Index(['seasonal_vaccine', 'doctor_recc_h1n1', 'doctor_recc_seasonal',\n",
       "       'h1n1_concern', 'h1n1_knowledge', 'health_worker', 'opinion_h1n1_risk',\n",
       "       'opinion_h1n1_sick_from_vacc', 'opinion_h1n1_vacc_effective',\n",
       "       'opinion_seas_risk', 'opinion_seas_vacc_effective',\n",
       "       'opinion_seas_sick_from_vacc'],\n",
       "      dtype='object')"
      ]
     },
     "execution_count": 240,
     "metadata": {},
     "output_type": "execute_result"
    }
   ],
   "source": [
    "X_try.columns"
   ]
  },
  {
   "cell_type": "code",
   "execution_count": 246,
   "metadata": {},
   "outputs": [
    {
     "data": {
      "text/plain": [
       "0.9623989763698817"
      ]
     },
     "execution_count": 246,
     "metadata": {},
     "output_type": "execute_result"
    }
   ],
   "source": [
    "lr_model.predict_proba(X_try)[0][1]"
   ]
  },
  {
   "cell_type": "code",
   "execution_count": 255,
   "metadata": {},
   "outputs": [],
   "source": [
    "example_data = df_drop[select[1:]].iloc[:100]"
   ]
  },
  {
   "cell_type": "code",
   "execution_count": 256,
   "metadata": {},
   "outputs": [],
   "source": [
    "example_data.to_csv('Data/example_data.csv', index = False)"
   ]
  },
  {
   "cell_type": "code",
   "execution_count": 257,
   "metadata": {},
   "outputs": [],
   "source": [
    " with open(\"Data/lr_model.pickle\", \"wb\") as pfile:\n",
    "        pickle.dump(lr_model, pfile)"
   ]
  },
  {
   "cell_type": "code",
   "execution_count": 258,
   "metadata": {},
   "outputs": [],
   "source": [
    "    with open(\"Data/lr_model.pickle\", \"rb\") as pfile:\n",
    "        exec(\"lr_model_2 = pickle.load(pfile)\")\n",
    "#https://github.com/vanessa920/H1N1_seasonal_flu_shot_prediction/blob/eda/Data/lr_model.pickle"
   ]
  },
  {
   "cell_type": "code",
   "execution_count": 259,
   "metadata": {},
   "outputs": [
    {
     "data": {
      "text/plain": [
       "array([[0.03760102, 0.96239898]])"
      ]
     },
     "execution_count": 259,
     "metadata": {},
     "output_type": "execute_result"
    }
   ],
   "source": [
    "lr_model_2.predict_proba(X_try)"
   ]
  },
  {
   "cell_type": "code",
   "execution_count": 261,
   "metadata": {},
   "outputs": [
    {
     "name": "stdout",
     "output_type": "stream",
     "text": [
      "<class 'pandas.core.frame.DataFrame'>\n",
      "RangeIndex: 7338 entries, 0 to 7337\n",
      "Data columns (total 13 columns):\n",
      " #   Column                       Non-Null Count  Dtype  \n",
      "---  ------                       --------------  -----  \n",
      " 0   h1n1_vaccine                 7338 non-null   int64  \n",
      " 1   seasonal_vaccine             7338 non-null   int64  \n",
      " 2   doctor_recc_h1n1             7338 non-null   float64\n",
      " 3   doctor_recc_seasonal         7338 non-null   float64\n",
      " 4   h1n1_concern                 7327 non-null   float64\n",
      " 5   h1n1_knowledge               7313 non-null   float64\n",
      " 6   health_worker                7332 non-null   float64\n",
      " 7   opinion_h1n1_risk            7330 non-null   float64\n",
      " 8   opinion_h1n1_sick_from_vacc  7336 non-null   float64\n",
      " 9   opinion_h1n1_vacc_effective  7318 non-null   float64\n",
      " 10  opinion_seas_risk            7332 non-null   float64\n",
      " 11  opinion_seas_sick_from_vacc  7336 non-null   float64\n",
      " 12  opinion_seas_vacc_effective  7325 non-null   float64\n",
      "dtypes: float64(11), int64(2)\n",
      "memory usage: 745.4 KB\n"
     ]
    }
   ],
   "source": [
    " df_drop[select].info()"
   ]
  },
  {
   "cell_type": "code",
   "execution_count": 350,
   "metadata": {},
   "outputs": [
    {
     "data": {
      "image/png": "[encoded data removed]",
      "text/plain": [
       "<Figure size 864x720 with 1 Axes>"
      ]
     },
     "metadata": {},
     "output_type": "display_data"
    }
   ],
   "source": [
    "sns.set(font_scale=1.5)\n",
    "plt.figure(figsize=(12,10))\n",
    "ax = sns.barplot(x='Coefficient', y='Feature', data=feature_coef, \n",
    "                 color = \"#F3005E\", order=feature_coef.sort_values('Coefficient', ascending = False).Feature)\n",
    "ax.set(ylabel=None)\n",
    "#ax.grid(False)\n",
    "def change_width(ax, new_value) :\n",
    "    for patch in ax.patches :\n",
    "        current_width = patch.get_width()\n",
    "        diff = current_width - new_value\n",
    "\n",
    "        # we change the bar width\n",
    "        patch.set_width(new_value)\n",
    "\n",
    "        # we recenter the bar\n",
    "        patch.set_x(patch.get_x() + diff * .5)\n",
    "\n",
    "change_width(ax, .25);\n",
    "plt.savefig(\"Feature_Coeffient.jpg\", bbox_inches='tight')"
   ]
  },
  {
   "cell_type": "code",
   "execution_count": 380,
   "metadata": {},
   "outputs": [
    {
     "data": {
      "text/plain": [
       "<Figure size 864x720 with 0 Axes>"
      ]
     },
     "metadata": {},
     "output_type": "display_data"
    }
   ],
   "source": [
    "plt.figure(figsize=(12,10))\n",
    "\n",
    "sns.set(font_scale=1)\n",
    "\n",
    "def make_confusion_matrix(model, threshold=0.3):\n",
    "    # Predict class 1 if probability of being in class 1 is greater than threshold\n",
    "    # (model.predict(X_test) does this automatically with a threshold of 0.5)\n",
    "    \n",
    "    y_predict = (model.predict_proba(X_test)[:, 1] >= threshold)\n",
    "    confusion = confusion_matrix(y_test, y_predict)\n",
    "    plt.figure(dpi=80)\n",
    "    sns.heatmap(confusion, cmap=plt.cm.YlOrRd, annot=True, square=True, fmt='d',\n",
    "           xticklabels=['Take Vaccine', 'Not Take Vaccine'],\n",
    "           yticklabels=['Take Vaccine', 'Not Take Vaccine']);\n",
    "    plt.xlabel('prediction')\n",
    "    plt.ylabel('actual');"
   ]
  },
  {
   "cell_type": "code",
   "execution_count": 382,
   "metadata": {},
   "outputs": [
    {
     "data": {
      "image/png": "[encoded data removed]",
      "text/plain": [
       "<Figure size 480x320 with 2 Axes>"
      ]
     },
     "metadata": {},
     "output_type": "display_data"
    }
   ],
   "source": [
    "make_confusion_matrix(lr_model);\n",
    "plt.savefig(\"ClassBalance.jpg\", bbox_inches='tight')"
   ]
  },
  {
   "cell_type": "code",
   "execution_count": null,
   "metadata": {},
   "outputs": [],
   "source": []
  }
 ],
 "metadata": {
  "kernelspec": {
   "display_name": "Python [conda env:metis] *",
   "language": "python",
   "name": "conda-env-metis-py"
  },
  "language_info": {
   "codemirror_mode": {
    "name": "ipython",
    "version": 3
   },
   "file_extension": ".py",
   "mimetype": "text/x-python",
   "name": "python",
   "nbconvert_exporter": "python",
   "pygments_lexer": "ipython3",
   "version": "3.8.5"
  },
  "toc-showtags": false
 },
 "nbformat": 4,
 "nbformat_minor": 4
}
